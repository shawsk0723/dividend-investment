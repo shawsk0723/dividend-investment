{
 "cells": [
  {
   "cell_type": "code",
   "execution_count": null,
   "id": "873e69f5",
   "metadata": {},
   "outputs": [],
   "source": [
    "%pip install yfinance"
   ]
  },
  {
   "cell_type": "code",
   "execution_count": null,
   "id": "603553a2",
   "metadata": {},
   "outputs": [],
   "source": [
    "%pip install yahoo_fin"
   ]
  },
  {
   "cell_type": "code",
   "execution_count": 1,
   "id": "c65b04a5",
   "metadata": {},
   "outputs": [],
   "source": [
    "import yfinance as yf\n",
    "from yahoo_fin import stock_info"
   ]
  },
  {
   "cell_type": "code",
   "execution_count": 2,
   "id": "e9c50db6",
   "metadata": {},
   "outputs": [],
   "source": [
    "from datetime import datetime\n",
    "from dateutil.relativedelta import relativedelta"
   ]
  },
  {
   "cell_type": "code",
   "execution_count": 3,
   "id": "37b2b870",
   "metadata": {},
   "outputs": [],
   "source": [
    "TICKER = 'O'\n",
    "DIV_PERIODS = 7"
   ]
  },
  {
   "cell_type": "code",
   "execution_count": 4,
   "id": "2cd7332a",
   "metadata": {},
   "outputs": [],
   "source": [
    "stock_basic_info = yf.Ticker(TICKER).info"
   ]
  },
  {
   "cell_type": "code",
   "execution_count": 5,
   "id": "8d24e483",
   "metadata": {},
   "outputs": [
    {
     "data": {
      "text/plain": [
       "{'regularMarketPrice': None,\n",
       " 'preMarketPrice': None,\n",
       " 'logo_url': '',\n",
       " 'trailingPegRatio': 4.3042}"
      ]
     },
     "execution_count": 5,
     "metadata": {},
     "output_type": "execute_result"
    }
   ],
   "source": [
    "stock_basic_info"
   ]
  },
  {
   "cell_type": "markdown",
   "id": "c6911fac",
   "metadata": {},
   "source": [
    "과거 배당금 정보 가져 오기"
   ]
  },
  {
   "cell_type": "code",
   "execution_count": 6,
   "id": "a98b3b01",
   "metadata": {
    "scrolled": true
   },
   "outputs": [
    {
     "name": "stdout",
     "output_type": "stream",
     "text": [
      "end date:  2022-12-28\n"
     ]
    }
   ],
   "source": [
    "end_date = datetime.now().strftime(\"%Y-%m-%d\")\n",
    "print(\"end date: \" , end_date)"
   ]
  },
  {
   "cell_type": "code",
   "execution_count": 7,
   "id": "44e98558",
   "metadata": {},
   "outputs": [
    {
     "name": "stdout",
     "output_type": "stream",
     "text": [
      "start date:  2015-12-28\n"
     ]
    }
   ],
   "source": [
    "start_date = (datetime.now() - relativedelta(years=DIV_PERIODS)).strftime(\"%Y-%m-%d\")\n",
    "print(\"start date: \", start_date)"
   ]
  },
  {
   "cell_type": "code",
   "execution_count": 8,
   "id": "212d01ca",
   "metadata": {},
   "outputs": [],
   "source": [
    "dividends = stock_info.get_dividends(TICKER, start_date=start_date, end_date=end_date)"
   ]
  },
  {
   "cell_type": "code",
   "execution_count": 9,
   "id": "e02eedce",
   "metadata": {},
   "outputs": [
    {
     "data": {
      "text/html": [
       "<div>\n",
       "<style scoped>\n",
       "    .dataframe tbody tr th:only-of-type {\n",
       "        vertical-align: middle;\n",
       "    }\n",
       "\n",
       "    .dataframe tbody tr th {\n",
       "        vertical-align: top;\n",
       "    }\n",
       "\n",
       "    .dataframe thead th {\n",
       "        text-align: right;\n",
       "    }\n",
       "</style>\n",
       "<table border=\"1\" class=\"dataframe\">\n",
       "  <thead>\n",
       "    <tr style=\"text-align: right;\">\n",
       "      <th></th>\n",
       "      <th>dividend</th>\n",
       "      <th>ticker</th>\n",
       "    </tr>\n",
       "  </thead>\n",
       "  <tbody>\n",
       "    <tr>\n",
       "      <th>2015-12-30</th>\n",
       "      <td>0.185078</td>\n",
       "      <td>O</td>\n",
       "    </tr>\n",
       "    <tr>\n",
       "      <th>2016-01-28</th>\n",
       "      <td>0.192829</td>\n",
       "      <td>O</td>\n",
       "    </tr>\n",
       "    <tr>\n",
       "      <th>2016-02-26</th>\n",
       "      <td>0.192829</td>\n",
       "      <td>O</td>\n",
       "    </tr>\n",
       "    <tr>\n",
       "      <th>2016-03-30</th>\n",
       "      <td>0.192829</td>\n",
       "      <td>O</td>\n",
       "    </tr>\n",
       "    <tr>\n",
       "      <th>2016-04-28</th>\n",
       "      <td>0.192829</td>\n",
       "      <td>O</td>\n",
       "    </tr>\n",
       "    <tr>\n",
       "      <th>...</th>\n",
       "      <td>...</td>\n",
       "      <td>...</td>\n",
       "    </tr>\n",
       "    <tr>\n",
       "      <th>2022-07-29</th>\n",
       "      <td>0.248000</td>\n",
       "      <td>O</td>\n",
       "    </tr>\n",
       "    <tr>\n",
       "      <th>2022-08-31</th>\n",
       "      <td>0.248000</td>\n",
       "      <td>O</td>\n",
       "    </tr>\n",
       "    <tr>\n",
       "      <th>2022-09-30</th>\n",
       "      <td>0.248000</td>\n",
       "      <td>O</td>\n",
       "    </tr>\n",
       "    <tr>\n",
       "      <th>2022-10-31</th>\n",
       "      <td>0.248000</td>\n",
       "      <td>O</td>\n",
       "    </tr>\n",
       "    <tr>\n",
       "      <th>2022-11-30</th>\n",
       "      <td>0.248000</td>\n",
       "      <td>O</td>\n",
       "    </tr>\n",
       "  </tbody>\n",
       "</table>\n",
       "<p>84 rows × 2 columns</p>\n",
       "</div>"
      ],
      "text/plain": [
       "            dividend ticker\n",
       "2015-12-30  0.185078      O\n",
       "2016-01-28  0.192829      O\n",
       "2016-02-26  0.192829      O\n",
       "2016-03-30  0.192829      O\n",
       "2016-04-28  0.192829      O\n",
       "...              ...    ...\n",
       "2022-07-29  0.248000      O\n",
       "2022-08-31  0.248000      O\n",
       "2022-09-30  0.248000      O\n",
       "2022-10-31  0.248000      O\n",
       "2022-11-30  0.248000      O\n",
       "\n",
       "[84 rows x 2 columns]"
      ]
     },
     "execution_count": 9,
     "metadata": {},
     "output_type": "execute_result"
    }
   ],
   "source": [
    "dividends"
   ]
  },
  {
   "cell_type": "code",
   "execution_count": null,
   "id": "e8366c80",
   "metadata": {},
   "outputs": [],
   "source": []
  },
  {
   "cell_type": "code",
   "execution_count": 10,
   "id": "fbe318c0",
   "metadata": {},
   "outputs": [
    {
     "data": {
      "text/html": [
       "<div>\n",
       "<style scoped>\n",
       "    .dataframe tbody tr th:only-of-type {\n",
       "        vertical-align: middle;\n",
       "    }\n",
       "\n",
       "    .dataframe tbody tr th {\n",
       "        vertical-align: top;\n",
       "    }\n",
       "\n",
       "    .dataframe thead th {\n",
       "        text-align: right;\n",
       "    }\n",
       "</style>\n",
       "<table border=\"1\" class=\"dataframe\">\n",
       "  <thead>\n",
       "    <tr style=\"text-align: right;\">\n",
       "      <th></th>\n",
       "      <th>dividend</th>\n",
       "      <th>ticker</th>\n",
       "    </tr>\n",
       "  </thead>\n",
       "  <tbody>\n",
       "    <tr>\n",
       "      <th>2015-12-30</th>\n",
       "      <td>0.185078</td>\n",
       "      <td>O</td>\n",
       "    </tr>\n",
       "    <tr>\n",
       "      <th>2016-01-28</th>\n",
       "      <td>0.192829</td>\n",
       "      <td>O</td>\n",
       "    </tr>\n",
       "    <tr>\n",
       "      <th>2016-02-26</th>\n",
       "      <td>0.192829</td>\n",
       "      <td>O</td>\n",
       "    </tr>\n",
       "  </tbody>\n",
       "</table>\n",
       "</div>"
      ],
      "text/plain": [
       "            dividend ticker\n",
       "2015-12-30  0.185078      O\n",
       "2016-01-28  0.192829      O\n",
       "2016-02-26  0.192829      O"
      ]
     },
     "execution_count": 10,
     "metadata": {},
     "output_type": "execute_result"
    }
   ],
   "source": [
    "dividends.head(3)"
   ]
  },
  {
   "cell_type": "code",
   "execution_count": 11,
   "id": "93595cdd",
   "metadata": {},
   "outputs": [
    {
     "data": {
      "text/html": [
       "<div>\n",
       "<style scoped>\n",
       "    .dataframe tbody tr th:only-of-type {\n",
       "        vertical-align: middle;\n",
       "    }\n",
       "\n",
       "    .dataframe tbody tr th {\n",
       "        vertical-align: top;\n",
       "    }\n",
       "\n",
       "    .dataframe thead th {\n",
       "        text-align: right;\n",
       "    }\n",
       "</style>\n",
       "<table border=\"1\" class=\"dataframe\">\n",
       "  <thead>\n",
       "    <tr style=\"text-align: right;\">\n",
       "      <th></th>\n",
       "      <th>dividend</th>\n",
       "      <th>ticker</th>\n",
       "    </tr>\n",
       "  </thead>\n",
       "  <tbody>\n",
       "    <tr>\n",
       "      <th>2022-09-30</th>\n",
       "      <td>0.248</td>\n",
       "      <td>O</td>\n",
       "    </tr>\n",
       "    <tr>\n",
       "      <th>2022-10-31</th>\n",
       "      <td>0.248</td>\n",
       "      <td>O</td>\n",
       "    </tr>\n",
       "    <tr>\n",
       "      <th>2022-11-30</th>\n",
       "      <td>0.248</td>\n",
       "      <td>O</td>\n",
       "    </tr>\n",
       "  </tbody>\n",
       "</table>\n",
       "</div>"
      ],
      "text/plain": [
       "            dividend ticker\n",
       "2022-09-30     0.248      O\n",
       "2022-10-31     0.248      O\n",
       "2022-11-30     0.248      O"
      ]
     },
     "execution_count": 11,
     "metadata": {},
     "output_type": "execute_result"
    }
   ],
   "source": [
    "dividends.tail(3)"
   ]
  },
  {
   "cell_type": "code",
   "execution_count": 12,
   "id": "761b8911",
   "metadata": {},
   "outputs": [
    {
     "data": {
      "text/plain": [
       "2015-12-30    0.185078\n",
       "2016-01-28    0.192829\n",
       "2016-02-26    0.192829\n",
       "2016-03-30    0.192829\n",
       "2016-04-28    0.192829\n",
       "                ...   \n",
       "2022-07-29    0.248000\n",
       "2022-08-31    0.248000\n",
       "2022-09-30    0.248000\n",
       "2022-10-31    0.248000\n",
       "2022-11-30    0.248000\n",
       "Name: dividend, Length: 84, dtype: float64"
      ]
     },
     "execution_count": 12,
     "metadata": {},
     "output_type": "execute_result"
    }
   ],
   "source": [
    "dividends['dividend']"
   ]
  },
  {
   "cell_type": "code",
   "execution_count": 13,
   "id": "53e06018",
   "metadata": {},
   "outputs": [],
   "source": [
    "dividends.drop(['ticker'], axis=1, inplace=True)"
   ]
  },
  {
   "cell_type": "code",
   "execution_count": 14,
   "id": "023fe3fb",
   "metadata": {},
   "outputs": [
    {
     "data": {
      "text/html": [
       "<div>\n",
       "<style scoped>\n",
       "    .dataframe tbody tr th:only-of-type {\n",
       "        vertical-align: middle;\n",
       "    }\n",
       "\n",
       "    .dataframe tbody tr th {\n",
       "        vertical-align: top;\n",
       "    }\n",
       "\n",
       "    .dataframe thead th {\n",
       "        text-align: right;\n",
       "    }\n",
       "</style>\n",
       "<table border=\"1\" class=\"dataframe\">\n",
       "  <thead>\n",
       "    <tr style=\"text-align: right;\">\n",
       "      <th></th>\n",
       "      <th>dividend</th>\n",
       "    </tr>\n",
       "  </thead>\n",
       "  <tbody>\n",
       "    <tr>\n",
       "      <th>2015-12-30</th>\n",
       "      <td>0.185078</td>\n",
       "    </tr>\n",
       "    <tr>\n",
       "      <th>2016-01-28</th>\n",
       "      <td>0.192829</td>\n",
       "    </tr>\n",
       "    <tr>\n",
       "      <th>2016-02-26</th>\n",
       "      <td>0.192829</td>\n",
       "    </tr>\n",
       "    <tr>\n",
       "      <th>2016-03-30</th>\n",
       "      <td>0.192829</td>\n",
       "    </tr>\n",
       "    <tr>\n",
       "      <th>2016-04-28</th>\n",
       "      <td>0.192829</td>\n",
       "    </tr>\n",
       "    <tr>\n",
       "      <th>...</th>\n",
       "      <td>...</td>\n",
       "    </tr>\n",
       "    <tr>\n",
       "      <th>2022-07-29</th>\n",
       "      <td>0.248000</td>\n",
       "    </tr>\n",
       "    <tr>\n",
       "      <th>2022-08-31</th>\n",
       "      <td>0.248000</td>\n",
       "    </tr>\n",
       "    <tr>\n",
       "      <th>2022-09-30</th>\n",
       "      <td>0.248000</td>\n",
       "    </tr>\n",
       "    <tr>\n",
       "      <th>2022-10-31</th>\n",
       "      <td>0.248000</td>\n",
       "    </tr>\n",
       "    <tr>\n",
       "      <th>2022-11-30</th>\n",
       "      <td>0.248000</td>\n",
       "    </tr>\n",
       "  </tbody>\n",
       "</table>\n",
       "<p>84 rows × 1 columns</p>\n",
       "</div>"
      ],
      "text/plain": [
       "            dividend\n",
       "2015-12-30  0.185078\n",
       "2016-01-28  0.192829\n",
       "2016-02-26  0.192829\n",
       "2016-03-30  0.192829\n",
       "2016-04-28  0.192829\n",
       "...              ...\n",
       "2022-07-29  0.248000\n",
       "2022-08-31  0.248000\n",
       "2022-09-30  0.248000\n",
       "2022-10-31  0.248000\n",
       "2022-11-30  0.248000\n",
       "\n",
       "[84 rows x 1 columns]"
      ]
     },
     "execution_count": 14,
     "metadata": {},
     "output_type": "execute_result"
    }
   ],
   "source": [
    "dividends"
   ]
  },
  {
   "cell_type": "code",
   "execution_count": 15,
   "id": "df8888d7",
   "metadata": {},
   "outputs": [],
   "source": [
    "import matplotlib.pyplot as plt"
   ]
  },
  {
   "cell_type": "code",
   "execution_count": 16,
   "id": "91458cf3",
   "metadata": {},
   "outputs": [
    {
     "data": {
      "image/png": "[encoded data removed]",
      "text/plain": [
       "<Figure size 432x288 with 1 Axes>"
      ]
     },
     "metadata": {
      "needs_background": "light"
     },
     "output_type": "display_data"
    }
   ],
   "source": [
    "dividends.plot()\n",
    "plt.show()"
   ]
  },
  {
   "cell_type": "code",
   "execution_count": 17,
   "id": "e015b4f6",
   "metadata": {},
   "outputs": [
    {
     "data": {
      "image/png": "[encoded data removed]",
      "text/plain": [
       "<Figure size 432x288 with 1 Axes>"
      ]
     },
     "metadata": {
      "needs_background": "light"
     },
     "output_type": "display_data"
    }
   ],
   "source": [
    "dividends.plot(kind='bar')\n",
    "plt.show()"
   ]
  },
  {
   "cell_type": "code",
   "execution_count": null,
   "id": "52fcc01f",
   "metadata": {},
   "outputs": [],
   "source": []
  },
  {
   "cell_type": "code",
   "execution_count": null,
   "id": "8c28d294",
   "metadata": {},
   "outputs": [],
   "source": []
  },
  {
   "cell_type": "raw",
   "id": "e9b52981",
   "metadata": {},
   "source": [
    "과거 주가 정보 가져오기"
   ]
  },
  {
   "cell_type": "code",
   "execution_count": 18,
   "id": "9e4c1b68",
   "metadata": {},
   "outputs": [
    {
     "name": "stdout",
     "output_type": "stream",
     "text": [
      "[*********************100%***********************]  1 of 1 completed\n"
     ]
    }
   ],
   "source": [
    "# Get stock price data\n",
    "stock_data = yf.download(TICKER, start_date, end_date)"
   ]
  },
  {
   "cell_type": "code",
   "execution_count": 19,
   "id": "73703d43",
   "metadata": {},
   "outputs": [
    {
     "data": {
      "text/html": [
       "<div>\n",
       "<style scoped>\n",
       "    .dataframe tbody tr th:only-of-type {\n",
       "        vertical-align: middle;\n",
       "    }\n",
       "\n",
       "    .dataframe tbody tr th {\n",
       "        vertical-align: top;\n",
       "    }\n",
       "\n",
       "    .dataframe thead th {\n",
       "        text-align: right;\n",
       "    }\n",
       "</style>\n",
       "<table border=\"1\" class=\"dataframe\">\n",
       "  <thead>\n",
       "    <tr style=\"text-align: right;\">\n",
       "      <th></th>\n",
       "      <th>Open</th>\n",
       "      <th>High</th>\n",
       "      <th>Low</th>\n",
       "      <th>Close</th>\n",
       "      <th>Adj Close</th>\n",
       "      <th>Volume</th>\n",
       "    </tr>\n",
       "    <tr>\n",
       "      <th>Date</th>\n",
       "      <th></th>\n",
       "      <th></th>\n",
       "      <th></th>\n",
       "      <th></th>\n",
       "      <th></th>\n",
       "      <th></th>\n",
       "    </tr>\n",
       "  </thead>\n",
       "  <tbody>\n",
       "    <tr>\n",
       "      <th>2015-12-28</th>\n",
       "      <td>49.670544</td>\n",
       "      <td>50.155041</td>\n",
       "      <td>49.496124</td>\n",
       "      <td>50.145348</td>\n",
       "      <td>37.113575</td>\n",
       "      <td>1129627</td>\n",
       "    </tr>\n",
       "    <tr>\n",
       "      <th>2015-12-29</th>\n",
       "      <td>50.310078</td>\n",
       "      <td>50.629845</td>\n",
       "      <td>50.125969</td>\n",
       "      <td>50.562016</td>\n",
       "      <td>37.421951</td>\n",
       "      <td>1566473</td>\n",
       "    </tr>\n",
       "    <tr>\n",
       "      <th>2015-12-30</th>\n",
       "      <td>50.465115</td>\n",
       "      <td>50.784885</td>\n",
       "      <td>50.242249</td>\n",
       "      <td>50.310078</td>\n",
       "      <td>37.372295</td>\n",
       "      <td>1331693</td>\n",
       "    </tr>\n",
       "    <tr>\n",
       "      <th>2015-12-31</th>\n",
       "      <td>50.387596</td>\n",
       "      <td>50.532948</td>\n",
       "      <td>49.941860</td>\n",
       "      <td>50.029072</td>\n",
       "      <td>37.163551</td>\n",
       "      <td>1282570</td>\n",
       "    </tr>\n",
       "    <tr>\n",
       "      <th>2016-01-04</th>\n",
       "      <td>49.554264</td>\n",
       "      <td>49.825581</td>\n",
       "      <td>48.905041</td>\n",
       "      <td>49.593021</td>\n",
       "      <td>36.839645</td>\n",
       "      <td>2095682</td>\n",
       "    </tr>\n",
       "    <tr>\n",
       "      <th>...</th>\n",
       "      <td>...</td>\n",
       "      <td>...</td>\n",
       "      <td>...</td>\n",
       "      <td>...</td>\n",
       "      <td>...</td>\n",
       "      <td>...</td>\n",
       "    </tr>\n",
       "    <tr>\n",
       "      <th>2022-12-20</th>\n",
       "      <td>63.310001</td>\n",
       "      <td>63.610001</td>\n",
       "      <td>62.590000</td>\n",
       "      <td>63.110001</td>\n",
       "      <td>63.110001</td>\n",
       "      <td>4438400</td>\n",
       "    </tr>\n",
       "    <tr>\n",
       "      <th>2022-12-21</th>\n",
       "      <td>63.980000</td>\n",
       "      <td>64.800003</td>\n",
       "      <td>63.930000</td>\n",
       "      <td>64.239998</td>\n",
       "      <td>64.239998</td>\n",
       "      <td>3845700</td>\n",
       "    </tr>\n",
       "    <tr>\n",
       "      <th>2022-12-22</th>\n",
       "      <td>63.959999</td>\n",
       "      <td>64.199997</td>\n",
       "      <td>62.520000</td>\n",
       "      <td>63.450001</td>\n",
       "      <td>63.450001</td>\n",
       "      <td>3204100</td>\n",
       "    </tr>\n",
       "    <tr>\n",
       "      <th>2022-12-23</th>\n",
       "      <td>63.320000</td>\n",
       "      <td>64.410004</td>\n",
       "      <td>63.240002</td>\n",
       "      <td>64.410004</td>\n",
       "      <td>64.410004</td>\n",
       "      <td>1847900</td>\n",
       "    </tr>\n",
       "    <tr>\n",
       "      <th>2022-12-27</th>\n",
       "      <td>64.410004</td>\n",
       "      <td>64.419998</td>\n",
       "      <td>63.630001</td>\n",
       "      <td>64.110001</td>\n",
       "      <td>64.110001</td>\n",
       "      <td>4073900</td>\n",
       "    </tr>\n",
       "  </tbody>\n",
       "</table>\n",
       "<p>1763 rows × 6 columns</p>\n",
       "</div>"
      ],
      "text/plain": [
       "                 Open       High        Low      Close  Adj Close   Volume\n",
       "Date                                                                      \n",
       "2015-12-28  49.670544  50.155041  49.496124  50.145348  37.113575  1129627\n",
       "2015-12-29  50.310078  50.629845  50.125969  50.562016  37.421951  1566473\n",
       "2015-12-30  50.465115  50.784885  50.242249  50.310078  37.372295  1331693\n",
       "2015-12-31  50.387596  50.532948  49.941860  50.029072  37.163551  1282570\n",
       "2016-01-04  49.554264  49.825581  48.905041  49.593021  36.839645  2095682\n",
       "...               ...        ...        ...        ...        ...      ...\n",
       "2022-12-20  63.310001  63.610001  62.590000  63.110001  63.110001  4438400\n",
       "2022-12-21  63.980000  64.800003  63.930000  64.239998  64.239998  3845700\n",
       "2022-12-22  63.959999  64.199997  62.520000  63.450001  63.450001  3204100\n",
       "2022-12-23  63.320000  64.410004  63.240002  64.410004  64.410004  1847900\n",
       "2022-12-27  64.410004  64.419998  63.630001  64.110001  64.110001  4073900\n",
       "\n",
       "[1763 rows x 6 columns]"
      ]
     },
     "execution_count": 19,
     "metadata": {},
     "output_type": "execute_result"
    }
   ],
   "source": [
    "stock_data"
   ]
  },
  {
   "cell_type": "code",
   "execution_count": 20,
   "id": "33aba2d9",
   "metadata": {},
   "outputs": [
    {
     "data": {
      "text/html": [
       "<div>\n",
       "<style scoped>\n",
       "    .dataframe tbody tr th:only-of-type {\n",
       "        vertical-align: middle;\n",
       "    }\n",
       "\n",
       "    .dataframe tbody tr th {\n",
       "        vertical-align: top;\n",
       "    }\n",
       "\n",
       "    .dataframe thead th {\n",
       "        text-align: right;\n",
       "    }\n",
       "</style>\n",
       "<table border=\"1\" class=\"dataframe\">\n",
       "  <thead>\n",
       "    <tr style=\"text-align: right;\">\n",
       "      <th></th>\n",
       "      <th>Open</th>\n",
       "      <th>High</th>\n",
       "      <th>Low</th>\n",
       "      <th>Close</th>\n",
       "      <th>Adj Close</th>\n",
       "      <th>Volume</th>\n",
       "    </tr>\n",
       "    <tr>\n",
       "      <th>Date</th>\n",
       "      <th></th>\n",
       "      <th></th>\n",
       "      <th></th>\n",
       "      <th></th>\n",
       "      <th></th>\n",
       "      <th></th>\n",
       "    </tr>\n",
       "  </thead>\n",
       "  <tbody>\n",
       "    <tr>\n",
       "      <th>2022-12-22</th>\n",
       "      <td>63.959999</td>\n",
       "      <td>64.199997</td>\n",
       "      <td>62.520000</td>\n",
       "      <td>63.450001</td>\n",
       "      <td>63.450001</td>\n",
       "      <td>3204100</td>\n",
       "    </tr>\n",
       "    <tr>\n",
       "      <th>2022-12-23</th>\n",
       "      <td>63.320000</td>\n",
       "      <td>64.410004</td>\n",
       "      <td>63.240002</td>\n",
       "      <td>64.410004</td>\n",
       "      <td>64.410004</td>\n",
       "      <td>1847900</td>\n",
       "    </tr>\n",
       "    <tr>\n",
       "      <th>2022-12-27</th>\n",
       "      <td>64.410004</td>\n",
       "      <td>64.419998</td>\n",
       "      <td>63.630001</td>\n",
       "      <td>64.110001</td>\n",
       "      <td>64.110001</td>\n",
       "      <td>4073900</td>\n",
       "    </tr>\n",
       "  </tbody>\n",
       "</table>\n",
       "</div>"
      ],
      "text/plain": [
       "                 Open       High        Low      Close  Adj Close   Volume\n",
       "Date                                                                      \n",
       "2022-12-22  63.959999  64.199997  62.520000  63.450001  63.450001  3204100\n",
       "2022-12-23  63.320000  64.410004  63.240002  64.410004  64.410004  1847900\n",
       "2022-12-27  64.410004  64.419998  63.630001  64.110001  64.110001  4073900"
      ]
     },
     "execution_count": 20,
     "metadata": {},
     "output_type": "execute_result"
    }
   ],
   "source": [
    "stock_data.tail(3)"
   ]
  },
  {
   "cell_type": "code",
   "execution_count": null,
   "id": "2a16c3fc",
   "metadata": {},
   "outputs": [],
   "source": []
  },
  {
   "cell_type": "code",
   "execution_count": null,
   "id": "90a3ac1f",
   "metadata": {},
   "outputs": [],
   "source": []
  },
  {
   "cell_type": "code",
   "execution_count": 21,
   "id": "686e9c56",
   "metadata": {},
   "outputs": [
    {
     "data": {
      "text/html": [
       "<div>\n",
       "<style scoped>\n",
       "    .dataframe tbody tr th:only-of-type {\n",
       "        vertical-align: middle;\n",
       "    }\n",
       "\n",
       "    .dataframe tbody tr th {\n",
       "        vertical-align: top;\n",
       "    }\n",
       "\n",
       "    .dataframe thead th {\n",
       "        text-align: right;\n",
       "    }\n",
       "</style>\n",
       "<table border=\"1\" class=\"dataframe\">\n",
       "  <thead>\n",
       "    <tr style=\"text-align: right;\">\n",
       "      <th></th>\n",
       "      <th>Open</th>\n",
       "      <th>High</th>\n",
       "      <th>Low</th>\n",
       "      <th>Close</th>\n",
       "      <th>Adj Close</th>\n",
       "      <th>Volume</th>\n",
       "    </tr>\n",
       "  </thead>\n",
       "  <tbody>\n",
       "    <tr>\n",
       "      <th>2015-12-30</th>\n",
       "      <td>50.465115</td>\n",
       "      <td>50.784885</td>\n",
       "      <td>50.242249</td>\n",
       "      <td>50.310078</td>\n",
       "      <td>37.372295</td>\n",
       "      <td>1331693</td>\n",
       "    </tr>\n",
       "    <tr>\n",
       "      <th>2016-01-28</th>\n",
       "      <td>53.149223</td>\n",
       "      <td>53.798450</td>\n",
       "      <td>52.926357</td>\n",
       "      <td>53.168606</td>\n",
       "      <td>39.638935</td>\n",
       "      <td>3436457</td>\n",
       "    </tr>\n",
       "    <tr>\n",
       "      <th>2016-02-26</th>\n",
       "      <td>58.003876</td>\n",
       "      <td>58.003876</td>\n",
       "      <td>56.695736</td>\n",
       "      <td>56.812016</td>\n",
       "      <td>42.495884</td>\n",
       "      <td>2571538</td>\n",
       "    </tr>\n",
       "  </tbody>\n",
       "</table>\n",
       "</div>"
      ],
      "text/plain": [
       "                 Open       High        Low      Close  Adj Close   Volume\n",
       "2015-12-30  50.465115  50.784885  50.242249  50.310078  37.372295  1331693\n",
       "2016-01-28  53.149223  53.798450  52.926357  53.168606  39.638935  3436457\n",
       "2016-02-26  58.003876  58.003876  56.695736  56.812016  42.495884  2571538"
      ]
     },
     "execution_count": 21,
     "metadata": {},
     "output_type": "execute_result"
    }
   ],
   "source": [
    "stock_data.loc[dividends.index].head(3)"
   ]
  },
  {
   "cell_type": "code",
   "execution_count": 22,
   "id": "3cdea196",
   "metadata": {},
   "outputs": [],
   "source": [
    "df_close_price = stock_data.loc[dividends.index]['Close']"
   ]
  },
  {
   "cell_type": "code",
   "execution_count": 23,
   "id": "f9817451",
   "metadata": {},
   "outputs": [
    {
     "data": {
      "text/plain": [
       "2015-12-30    50.310078\n",
       "2016-01-28    53.168606\n",
       "2016-02-26    56.812016\n",
       "2016-03-30    60.281010\n",
       "2016-04-28    57.625969\n",
       "                ...    \n",
       "2022-07-29    73.989998\n",
       "2022-08-31    68.279999\n",
       "2022-09-30    58.200001\n",
       "2022-10-31    62.270000\n",
       "2022-11-30    63.070000\n",
       "Name: Close, Length: 84, dtype: float64"
      ]
     },
     "execution_count": 23,
     "metadata": {},
     "output_type": "execute_result"
    }
   ],
   "source": [
    "df_close_price"
   ]
  },
  {
   "cell_type": "code",
   "execution_count": 24,
   "id": "f85331e8",
   "metadata": {},
   "outputs": [
    {
     "data": {
      "text/plain": [
       "2015-12-30    50.310078\n",
       "2016-01-28    53.168606\n",
       "2016-02-26    56.812016\n",
       "Name: Close, dtype: float64"
      ]
     },
     "execution_count": 24,
     "metadata": {},
     "output_type": "execute_result"
    }
   ],
   "source": [
    "df_close_price[:3]"
   ]
  },
  {
   "cell_type": "code",
   "execution_count": 25,
   "id": "dc1ff41a",
   "metadata": {},
   "outputs": [],
   "source": [
    "dividends['close'] = df_close_price"
   ]
  },
  {
   "cell_type": "code",
   "execution_count": 26,
   "id": "6ba01278",
   "metadata": {},
   "outputs": [
    {
     "data": {
      "text/html": [
       "<div>\n",
       "<style scoped>\n",
       "    .dataframe tbody tr th:only-of-type {\n",
       "        vertical-align: middle;\n",
       "    }\n",
       "\n",
       "    .dataframe tbody tr th {\n",
       "        vertical-align: top;\n",
       "    }\n",
       "\n",
       "    .dataframe thead th {\n",
       "        text-align: right;\n",
       "    }\n",
       "</style>\n",
       "<table border=\"1\" class=\"dataframe\">\n",
       "  <thead>\n",
       "    <tr style=\"text-align: right;\">\n",
       "      <th></th>\n",
       "      <th>dividend</th>\n",
       "      <th>close</th>\n",
       "    </tr>\n",
       "  </thead>\n",
       "  <tbody>\n",
       "    <tr>\n",
       "      <th>2015-12-30</th>\n",
       "      <td>0.185078</td>\n",
       "      <td>50.310078</td>\n",
       "    </tr>\n",
       "    <tr>\n",
       "      <th>2016-01-28</th>\n",
       "      <td>0.192829</td>\n",
       "      <td>53.168606</td>\n",
       "    </tr>\n",
       "    <tr>\n",
       "      <th>2016-02-26</th>\n",
       "      <td>0.192829</td>\n",
       "      <td>56.812016</td>\n",
       "    </tr>\n",
       "    <tr>\n",
       "      <th>2016-03-30</th>\n",
       "      <td>0.192829</td>\n",
       "      <td>60.281010</td>\n",
       "    </tr>\n",
       "    <tr>\n",
       "      <th>2016-04-28</th>\n",
       "      <td>0.192829</td>\n",
       "      <td>57.625969</td>\n",
       "    </tr>\n",
       "    <tr>\n",
       "      <th>...</th>\n",
       "      <td>...</td>\n",
       "      <td>...</td>\n",
       "    </tr>\n",
       "    <tr>\n",
       "      <th>2022-07-29</th>\n",
       "      <td>0.248000</td>\n",
       "      <td>73.989998</td>\n",
       "    </tr>\n",
       "    <tr>\n",
       "      <th>2022-08-31</th>\n",
       "      <td>0.248000</td>\n",
       "      <td>68.279999</td>\n",
       "    </tr>\n",
       "    <tr>\n",
       "      <th>2022-09-30</th>\n",
       "      <td>0.248000</td>\n",
       "      <td>58.200001</td>\n",
       "    </tr>\n",
       "    <tr>\n",
       "      <th>2022-10-31</th>\n",
       "      <td>0.248000</td>\n",
       "      <td>62.270000</td>\n",
       "    </tr>\n",
       "    <tr>\n",
       "      <th>2022-11-30</th>\n",
       "      <td>0.248000</td>\n",
       "      <td>63.070000</td>\n",
       "    </tr>\n",
       "  </tbody>\n",
       "</table>\n",
       "<p>84 rows × 2 columns</p>\n",
       "</div>"
      ],
      "text/plain": [
       "            dividend      close\n",
       "2015-12-30  0.185078  50.310078\n",
       "2016-01-28  0.192829  53.168606\n",
       "2016-02-26  0.192829  56.812016\n",
       "2016-03-30  0.192829  60.281010\n",
       "2016-04-28  0.192829  57.625969\n",
       "...              ...        ...\n",
       "2022-07-29  0.248000  73.989998\n",
       "2022-08-31  0.248000  68.279999\n",
       "2022-09-30  0.248000  58.200001\n",
       "2022-10-31  0.248000  62.270000\n",
       "2022-11-30  0.248000  63.070000\n",
       "\n",
       "[84 rows x 2 columns]"
      ]
     },
     "execution_count": 26,
     "metadata": {},
     "output_type": "execute_result"
    }
   ],
   "source": [
    "dividends"
   ]
  },
  {
   "cell_type": "code",
   "execution_count": null,
   "id": "27b0b5dd",
   "metadata": {},
   "outputs": [],
   "source": []
  },
  {
   "cell_type": "code",
   "execution_count": 27,
   "id": "dba39983",
   "metadata": {},
   "outputs": [],
   "source": [
    "div_freq = round(len(dividends.index)/DIV_PERIODS)"
   ]
  },
  {
   "cell_type": "code",
   "execution_count": 28,
   "id": "44a3e86f",
   "metadata": {},
   "outputs": [
    {
     "data": {
      "text/plain": [
       "12"
      ]
     },
     "execution_count": 28,
     "metadata": {},
     "output_type": "execute_result"
    }
   ],
   "source": [
    "div_freq"
   ]
  },
  {
   "cell_type": "code",
   "execution_count": 29,
   "id": "5f848291",
   "metadata": {},
   "outputs": [],
   "source": [
    "div_yield = dividends['dividend']*div_freq / dividends['close'] * 100"
   ]
  },
  {
   "cell_type": "code",
   "execution_count": 30,
   "id": "3e80761a",
   "metadata": {},
   "outputs": [
    {
     "data": {
      "text/plain": [
       "2015-12-30    4.414495\n",
       "2016-01-28    4.352095\n",
       "2016-02-26    4.072991\n",
       "2016-03-30    3.838602\n",
       "2016-04-28    4.015460\n",
       "                ...   \n",
       "2022-07-29    4.022165\n",
       "2022-08-31    4.358524\n",
       "2022-09-30    5.113402\n",
       "2022-10-31    4.779187\n",
       "2022-11-30    4.718567\n",
       "Length: 84, dtype: float64"
      ]
     },
     "execution_count": 30,
     "metadata": {},
     "output_type": "execute_result"
    }
   ],
   "source": [
    "div_yield"
   ]
  },
  {
   "cell_type": "code",
   "execution_count": 31,
   "id": "6d90b47a",
   "metadata": {},
   "outputs": [
    {
     "data": {
      "text/plain": [
       "2015-12-30    4.41\n",
       "2016-01-28    4.35\n",
       "2016-02-26    4.07\n",
       "2016-03-30    3.84\n",
       "2016-04-28    4.02\n",
       "              ... \n",
       "2022-07-29    4.02\n",
       "2022-08-31    4.36\n",
       "2022-09-30    5.11\n",
       "2022-10-31    4.78\n",
       "2022-11-30    4.72\n",
       "Length: 84, dtype: float64"
      ]
     },
     "execution_count": 31,
     "metadata": {},
     "output_type": "execute_result"
    }
   ],
   "source": [
    "div_yield = round(div_yield, 2)\n",
    "div_yield"
   ]
  },
  {
   "cell_type": "code",
   "execution_count": 32,
   "id": "e4b7312d",
   "metadata": {},
   "outputs": [],
   "source": [
    "dividends['div yield'] = div_yield"
   ]
  },
  {
   "cell_type": "code",
   "execution_count": 33,
   "id": "93ea1e88",
   "metadata": {},
   "outputs": [
    {
     "data": {
      "text/html": [
       "<div>\n",
       "<style scoped>\n",
       "    .dataframe tbody tr th:only-of-type {\n",
       "        vertical-align: middle;\n",
       "    }\n",
       "\n",
       "    .dataframe tbody tr th {\n",
       "        vertical-align: top;\n",
       "    }\n",
       "\n",
       "    .dataframe thead th {\n",
       "        text-align: right;\n",
       "    }\n",
       "</style>\n",
       "<table border=\"1\" class=\"dataframe\">\n",
       "  <thead>\n",
       "    <tr style=\"text-align: right;\">\n",
       "      <th></th>\n",
       "      <th>dividend</th>\n",
       "      <th>close</th>\n",
       "      <th>div yield</th>\n",
       "    </tr>\n",
       "  </thead>\n",
       "  <tbody>\n",
       "    <tr>\n",
       "      <th>2015-12-30</th>\n",
       "      <td>0.185078</td>\n",
       "      <td>50.310078</td>\n",
       "      <td>4.41</td>\n",
       "    </tr>\n",
       "    <tr>\n",
       "      <th>2016-01-28</th>\n",
       "      <td>0.192829</td>\n",
       "      <td>53.168606</td>\n",
       "      <td>4.35</td>\n",
       "    </tr>\n",
       "    <tr>\n",
       "      <th>2016-02-26</th>\n",
       "      <td>0.192829</td>\n",
       "      <td>56.812016</td>\n",
       "      <td>4.07</td>\n",
       "    </tr>\n",
       "    <tr>\n",
       "      <th>2016-03-30</th>\n",
       "      <td>0.192829</td>\n",
       "      <td>60.281010</td>\n",
       "      <td>3.84</td>\n",
       "    </tr>\n",
       "    <tr>\n",
       "      <th>2016-04-28</th>\n",
       "      <td>0.192829</td>\n",
       "      <td>57.625969</td>\n",
       "      <td>4.02</td>\n",
       "    </tr>\n",
       "    <tr>\n",
       "      <th>...</th>\n",
       "      <td>...</td>\n",
       "      <td>...</td>\n",
       "      <td>...</td>\n",
       "    </tr>\n",
       "    <tr>\n",
       "      <th>2022-07-29</th>\n",
       "      <td>0.248000</td>\n",
       "      <td>73.989998</td>\n",
       "      <td>4.02</td>\n",
       "    </tr>\n",
       "    <tr>\n",
       "      <th>2022-08-31</th>\n",
       "      <td>0.248000</td>\n",
       "      <td>68.279999</td>\n",
       "      <td>4.36</td>\n",
       "    </tr>\n",
       "    <tr>\n",
       "      <th>2022-09-30</th>\n",
       "      <td>0.248000</td>\n",
       "      <td>58.200001</td>\n",
       "      <td>5.11</td>\n",
       "    </tr>\n",
       "    <tr>\n",
       "      <th>2022-10-31</th>\n",
       "      <td>0.248000</td>\n",
       "      <td>62.270000</td>\n",
       "      <td>4.78</td>\n",
       "    </tr>\n",
       "    <tr>\n",
       "      <th>2022-11-30</th>\n",
       "      <td>0.248000</td>\n",
       "      <td>63.070000</td>\n",
       "      <td>4.72</td>\n",
       "    </tr>\n",
       "  </tbody>\n",
       "</table>\n",
       "<p>84 rows × 3 columns</p>\n",
       "</div>"
      ],
      "text/plain": [
       "            dividend      close  div yield\n",
       "2015-12-30  0.185078  50.310078       4.41\n",
       "2016-01-28  0.192829  53.168606       4.35\n",
       "2016-02-26  0.192829  56.812016       4.07\n",
       "2016-03-30  0.192829  60.281010       3.84\n",
       "2016-04-28  0.192829  57.625969       4.02\n",
       "...              ...        ...        ...\n",
       "2022-07-29  0.248000  73.989998       4.02\n",
       "2022-08-31  0.248000  68.279999       4.36\n",
       "2022-09-30  0.248000  58.200001       5.11\n",
       "2022-10-31  0.248000  62.270000       4.78\n",
       "2022-11-30  0.248000  63.070000       4.72\n",
       "\n",
       "[84 rows x 3 columns]"
      ]
     },
     "execution_count": 33,
     "metadata": {},
     "output_type": "execute_result"
    }
   ],
   "source": [
    "dividends"
   ]
  },
  {
   "cell_type": "code",
   "execution_count": null,
   "id": "460f2d8d",
   "metadata": {},
   "outputs": [],
   "source": []
  },
  {
   "cell_type": "code",
   "execution_count": 34,
   "id": "a8e45c8e",
   "metadata": {},
   "outputs": [
    {
     "data": {
      "image/png": "[encoded data removed]",
      "text/plain": [
       "<Figure size 432x288 with 1 Axes>"
      ]
     },
     "metadata": {
      "needs_background": "light"
     },
     "output_type": "display_data"
    }
   ],
   "source": [
    "dividends['div yield'].plot()\n",
    "plt.show()"
   ]
  },
  {
   "cell_type": "code",
   "execution_count": 35,
   "id": "ca8afece",
   "metadata": {},
   "outputs": [],
   "source": [
    "div_min = min(dividends['div yield'])\n",
    "div_max = max(dividends['div yield'])"
   ]
  },
  {
   "cell_type": "code",
   "execution_count": 36,
   "id": "d90ba7b7",
   "metadata": {},
   "outputs": [
    {
     "data": {
      "text/plain": [
       "(3.33, 5.61)"
      ]
     },
     "execution_count": 36,
     "metadata": {},
     "output_type": "execute_result"
    }
   ],
   "source": [
    "div_min, div_max"
   ]
  },
  {
   "cell_type": "code",
   "execution_count": 37,
   "id": "7fb1ff59",
   "metadata": {},
   "outputs": [
    {
     "data": {
      "text/plain": [
       "89.36936936936938"
      ]
     },
     "execution_count": 37,
     "metadata": {},
     "output_type": "execute_result"
    }
   ],
   "source": [
    "buy_price = dividends['dividend'][-1] * div_freq * 100 / div_min\n",
    "buy_price"
   ]
  },
  {
   "cell_type": "code",
   "execution_count": 38,
   "id": "a68c445e",
   "metadata": {},
   "outputs": [
    {
     "data": {
      "text/plain": [
       "53.04812834224599"
      ]
     },
     "execution_count": 38,
     "metadata": {},
     "output_type": "execute_result"
    }
   ],
   "source": [
    "sell_price = dividends['dividend'][-1] * div_freq * 100 / div_max\n",
    "sell_price"
   ]
  },
  {
   "cell_type": "code",
   "execution_count": 39,
   "id": "26a2767b",
   "metadata": {},
   "outputs": [],
   "source": [
    "current_datetime = datetime.strptime(end_date, \"%Y-%m-%d\")"
   ]
  },
  {
   "cell_type": "code",
   "execution_count": 40,
   "id": "9bb4f643",
   "metadata": {},
   "outputs": [
    {
     "data": {
      "text/plain": [
       "datetime.datetime(2022, 12, 28, 0, 0)"
      ]
     },
     "execution_count": 40,
     "metadata": {},
     "output_type": "execute_result"
    }
   ],
   "source": [
    "current_datetime"
   ]
  },
  {
   "cell_type": "code",
   "execution_count": 41,
   "id": "24707f74",
   "metadata": {},
   "outputs": [],
   "source": [
    "current_price = stock_data.iloc[-1]['Close']"
   ]
  },
  {
   "cell_type": "code",
   "execution_count": 42,
   "id": "1bea3a61",
   "metadata": {},
   "outputs": [
    {
     "data": {
      "text/plain": [
       "64.11000061035156"
      ]
     },
     "execution_count": 42,
     "metadata": {},
     "output_type": "execute_result"
    }
   ],
   "source": [
    "current_price"
   ]
  },
  {
   "cell_type": "code",
   "execution_count": null,
   "id": "47d010b7",
   "metadata": {},
   "outputs": [],
   "source": []
  },
  {
   "cell_type": "code",
   "execution_count": 43,
   "id": "21a98b2a",
   "metadata": {},
   "outputs": [
    {
     "data": {
      "text/plain": [
       "0.248"
      ]
     },
     "execution_count": 43,
     "metadata": {},
     "output_type": "execute_result"
    }
   ],
   "source": [
    "last_dividend = dividends.iloc[-1]['dividend']\n",
    "last_dividend"
   ]
  },
  {
   "cell_type": "code",
   "execution_count": 44,
   "id": "b2f3e6b5",
   "metadata": {},
   "outputs": [
    {
     "data": {
      "text/plain": [
       "4.64"
      ]
     },
     "execution_count": 44,
     "metadata": {},
     "output_type": "execute_result"
    }
   ],
   "source": [
    "current_div_yield = round(last_dividend*div_freq/current_price*100, 2)\n",
    "current_div_yield"
   ]
  },
  {
   "cell_type": "code",
   "execution_count": 45,
   "id": "d0650f54",
   "metadata": {},
   "outputs": [],
   "source": [
    "import matplotlib.pyplot as plt"
   ]
  },
  {
   "cell_type": "code",
   "execution_count": 46,
   "id": "5d18b9dd",
   "metadata": {},
   "outputs": [
    {
     "data": {
      "image/png": "[encoded data removed]",
      "text/plain": [
       "<Figure size 432x288 with 1 Axes>"
      ]
     },
     "metadata": {
      "needs_background": "light"
     },
     "output_type": "display_data"
    }
   ],
   "source": [
    "plt.plot(dividends['div yield'],  color='b', label = 'dividend history')\n",
    "plt.axhline(y=div_min, color='y', linestyle='--', label='min div yield')\n",
    "plt.axhline(y=div_max, color='r', linestyle='--', label='max div yield')\n",
    "plt.axhline(y=current_div_yield, color='g', linestyle='--', label='current div yield')\n",
    "plt.title(f'{TICKER} dividend analysis')\n",
    "plt.xlabel('year')\n",
    "plt.ylabel('dividend yield')\n",
    "plt.legend()\n",
    "plt.show()"
   ]
  },
  {
   "cell_type": "code",
   "execution_count": 47,
   "id": "a6d0e1bb",
   "metadata": {},
   "outputs": [],
   "source": [
    "def calculate_buy_score(cur_div, min_div, max_div):\n",
    "    return round((cur_div - min_div) / (max_div - min_div) * 100)"
   ]
  },
  {
   "cell_type": "code",
   "execution_count": 48,
   "id": "73a00e48",
   "metadata": {},
   "outputs": [
    {
     "name": "stdout",
     "output_type": "stream",
     "text": [
      "buy score = 57\n"
     ]
    }
   ],
   "source": [
    "buy_score = calculate_buy_score(current_div_yield, div_min, div_max)\n",
    "print(f'buy score = {buy_score}')"
   ]
  },
  {
   "cell_type": "code",
   "execution_count": null,
   "id": "e2c09a6d",
   "metadata": {},
   "outputs": [],
   "source": []
  },
  {
   "cell_type": "markdown",
   "id": "e0941707",
   "metadata": {},
   "source": [
    "\"\"\"\n",
    "FIN\n",
    "\"\"\""
   ]
  },
  {
   "cell_type": "code",
   "execution_count": null,
   "id": "0e8d3b63",
   "metadata": {},
   "outputs": [],
   "source": []
  }
 ],
 "metadata": {
  "kernelspec": {
   "display_name": "Python 3 (ipykernel)",
   "language": "python",
   "name": "python3"
  },
  "language_info": {
   "codemirror_mode": {
    "name": "ipython",
    "version": 3
   },
   "file_extension": ".py",
   "mimetype": "text/x-python",
   "name": "python",
   "nbconvert_exporter": "python",
   "pygments_lexer": "ipython3",
   "version": "3.9.12"
  }
 },
 "nbformat": 4,
 "nbformat_minor": 5
}
