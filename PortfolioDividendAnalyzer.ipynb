{
 "cells": [
  {
   "cell_type": "raw",
   "id": "4ab65d5d",
   "metadata": {},
   "source": [
    "%pip install yfinance\n",
    "%pip install yahoo_fin"
   ]
  },
  {
   "cell_type": "raw",
   "id": "f05742ae",
   "metadata": {},
   "source": []
  },
  {
   "cell_type": "code",
   "execution_count": 1,
   "id": "c65b04a5",
   "metadata": {},
   "outputs": [],
   "source": [
    "import pandas as pd\n",
    "import yfinance as yf\n",
    "from yahoo_fin import stock_info\n",
    "from datetime import datetime\n",
    "from dateutil.relativedelta import relativedelta"
   ]
  },
  {
   "cell_type": "code",
   "execution_count": 5,
   "id": "5326c481",
   "metadata": {},
   "outputs": [],
   "source": [
    "def get_percentage(input, min, max):\n",
    "    return round((input - min) / (max - min) * 100)\n",
    "\n",
    "def calculate_buysell_score(current_div_yield, div_min, div_max):\n",
    "    buy_score = get_percentage(current_div_yield, div_min, div_max)\n",
    "    sell_score = 100 - buy_score\n",
    "    return buy_score, sell_score"
   ]
  },
  {
   "cell_type": "code",
   "execution_count": 28,
   "id": "2cd7332a",
   "metadata": {},
   "outputs": [],
   "source": [
    "class UsaStockDividendAnalyzer:\n",
    "    def __init__(self, ticker, period):\n",
    "        self.ticker = ticker\n",
    "        self.period = period\n",
    "\n",
    "    def fit(self):\n",
    "        ticker = self.ticker\n",
    "        period = self.period\n",
    "\n",
    "        print(f'ticker = {ticker}')\n",
    "        stock_basic_info = yf.Ticker(ticker).info\n",
    "        end_date = datetime.now().strftime(\"%Y-%m-%d\")\n",
    "        #print(\"start date: \" , end_date)\n",
    "        start_date = (datetime.now() - relativedelta(years=period)).strftime(\"%Y-%m-%d\")\n",
    "        #print(\"end date: \", start_date)\n",
    "\n",
    "        dividends = stock_info.get_dividends(ticker, start_date=start_date, end_date=end_date)\n",
    "\n",
    "        stock_data = yf.download(ticker, start_date, end_date)\n",
    "\n",
    "        df_close_price = stock_data.loc[dividends.index]['Close']\n",
    "\n",
    "        dividends['close'] = df_close_price\n",
    "\n",
    "        dividends = dividends.drop('ticker', axis=1)\n",
    "\n",
    "        div_freq = round(len(dividends.index)/period)\n",
    "\n",
    "        dividends['div yield'] = round(dividends['dividend']*div_freq / dividends['close'] * 100, 2)\n",
    "\n",
    "        div_min = min(dividends['div yield'])\n",
    "        div_max = max(dividends['div yield'])\n",
    "\n",
    "        buy_price = dividends['dividend'][-1] * div_freq * 100 / div_min\n",
    "        sell_price = dividends['dividend'][-1] * div_freq * 100 / div_max\n",
    "\n",
    "        current_datetime = datetime.strptime(end_date, \"%Y-%m-%d\")\n",
    "        current_price = stock_data.iloc[-1]['Close']\n",
    "\n",
    "        last_dividend = dividends.iloc[-1]['dividend']\n",
    "        self.current_dividend = last_dividend * div_freq\n",
    "        self.current_div_yield = round(self.current_dividend/current_price*100, 2)\n",
    "\n",
    "        self.buy_score, self.sell_score = calculate_buysell_score(self.current_div_yield, div_min, div_max)\n",
    "        #print(f'buy score = {buy_score}\\nsell score = {sell_score}')\n",
    "        \n",
    "        \n",
    "    def getBuyScore(self):\n",
    "        return self.buy_score\n",
    "\n",
    "    def getSellScore(self):\n",
    "        return self.sell_score\n",
    "    \n",
    "    def getCurrentDividend(self):\n",
    "        return self.current_dividend\n",
    "    \n",
    "    def getCurrentDividendYield(self):\n",
    "        return self.current_div_yield"
   ]
  },
  {
   "cell_type": "code",
   "execution_count": 29,
   "id": "b8a784a2",
   "metadata": {},
   "outputs": [],
   "source": [
    "DIV_PERIODS = 7"
   ]
  },
  {
   "cell_type": "code",
   "execution_count": 64,
   "id": "cdb93e77",
   "metadata": {},
   "outputs": [],
   "source": [
    "analyzer = UsaStockDividendAnalyzer('PFE', DIV_PERIODS)"
   ]
  },
  {
   "cell_type": "code",
   "execution_count": 65,
   "id": "a6d0e1bb",
   "metadata": {},
   "outputs": [
    {
     "name": "stdout",
     "output_type": "stream",
     "text": [
      "ticker = PFE\n",
      "[*********************100%***********************]  1 of 1 completed\n"
     ]
    }
   ],
   "source": [
    "analyzer.fit()"
   ]
  },
  {
   "cell_type": "code",
   "execution_count": 66,
   "id": "d8b7350e",
   "metadata": {},
   "outputs": [
    {
     "data": {
      "text/plain": [
       "-4"
      ]
     },
     "execution_count": 66,
     "metadata": {},
     "output_type": "execute_result"
    }
   ],
   "source": [
    "analyzer.getBuyScore()"
   ]
  },
  {
   "cell_type": "code",
   "execution_count": 67,
   "id": "dbe94b11",
   "metadata": {},
   "outputs": [
    {
     "data": {
      "text/plain": [
       "104"
      ]
     },
     "execution_count": 67,
     "metadata": {},
     "output_type": "execute_result"
    }
   ],
   "source": [
    "analyzer.getSellScore()"
   ]
  },
  {
   "cell_type": "code",
   "execution_count": 68,
   "id": "40f2e73a",
   "metadata": {},
   "outputs": [
    {
     "data": {
      "text/plain": [
       "1.6"
      ]
     },
     "execution_count": 68,
     "metadata": {},
     "output_type": "execute_result"
    }
   ],
   "source": [
    "analyzer.getCurrentDividend()"
   ]
  },
  {
   "cell_type": "code",
   "execution_count": 69,
   "id": "8f938a82",
   "metadata": {},
   "outputs": [
    {
     "data": {
      "text/plain": [
       "2.94"
      ]
     },
     "execution_count": 69,
     "metadata": {},
     "output_type": "execute_result"
    }
   ],
   "source": [
    "analyzer.getCurrentDividendYield()"
   ]
  },
  {
   "cell_type": "code",
   "execution_count": 37,
   "id": "73a00e48",
   "metadata": {},
   "outputs": [
    {
     "data": {
      "text/html": [
       "<div>\n",
       "<style scoped>\n",
       "    .dataframe tbody tr th:only-of-type {\n",
       "        vertical-align: middle;\n",
       "    }\n",
       "\n",
       "    .dataframe tbody tr th {\n",
       "        vertical-align: top;\n",
       "    }\n",
       "\n",
       "    .dataframe thead th {\n",
       "        text-align: right;\n",
       "    }\n",
       "</style>\n",
       "<table border=\"1\" class=\"dataframe\">\n",
       "  <thead>\n",
       "    <tr style=\"text-align: right;\">\n",
       "      <th></th>\n",
       "      <th>ticker</th>\n",
       "    </tr>\n",
       "  </thead>\n",
       "  <tbody>\n",
       "    <tr>\n",
       "      <th>0</th>\n",
       "      <td>AMT</td>\n",
       "    </tr>\n",
       "    <tr>\n",
       "      <th>1</th>\n",
       "      <td>DLR</td>\n",
       "    </tr>\n",
       "    <tr>\n",
       "      <th>2</th>\n",
       "      <td>KMB</td>\n",
       "    </tr>\n",
       "  </tbody>\n",
       "</table>\n",
       "</div>"
      ],
      "text/plain": [
       "  ticker\n",
       "0    AMT\n",
       "1    DLR\n",
       "2    KMB"
      ]
     },
     "execution_count": 37,
     "metadata": {},
     "output_type": "execute_result"
    }
   ],
   "source": [
    "stock_df = pd.read_csv('usa-dividend-stock-list.csv')\n",
    "stock_df.head(3)"
   ]
  },
  {
   "cell_type": "code",
   "execution_count": 48,
   "id": "dbd602bd",
   "metadata": {},
   "outputs": [
    {
     "name": "stdout",
     "output_type": "stream",
     "text": [
      "ticker = AMT\n",
      "[*********************100%***********************]  1 of 1 completed\n",
      "ticker = DLR\n",
      "[*********************100%***********************]  1 of 1 completed\n",
      "ticker = KMB\n",
      "[*********************100%***********************]  1 of 1 completed\n",
      "ticker = MCD\n",
      "[*********************100%***********************]  1 of 1 completed\n",
      "ticker = MRK\n",
      "[*********************100%***********************]  1 of 1 completed\n",
      "ticker = NEE\n",
      "[*********************100%***********************]  1 of 1 completed\n",
      "ticker = O\n",
      "[*********************100%***********************]  1 of 1 completed\n",
      "ticker = OHI\n",
      "[*********************100%***********************]  1 of 1 completed\n",
      "ticker = VZ\n",
      "[*********************100%***********************]  1 of 1 completed\n",
      "ticker = INTC\n",
      "[*********************100%***********************]  1 of 1 completed\n",
      "ticker = WPC\n",
      "[*********************100%***********************]  1 of 1 completed\n",
      "ticker = LMT\n",
      "[*********************100%***********************]  1 of 1 completed\n",
      "ticker = MSFT\n",
      "[*********************100%***********************]  1 of 1 completed\n",
      "ticker = AAPL\n",
      "[*********************100%***********************]  1 of 1 completed\n",
      "ticker = TXN\n",
      "[*********************100%***********************]  1 of 1 completed\n",
      "ticker = OGN\n",
      "[*********************100%***********************]  1 of 1 completed\n",
      "ticker = JNJ\n",
      "[*********************100%***********************]  1 of 1 completed\n",
      "ticker = AFL\n",
      "[*********************100%***********************]  1 of 1 completed\n",
      "ticker = SWKS\n",
      "[*********************100%***********************]  1 of 1 completed\n",
      "ticker = CSCO\n",
      "[*********************100%***********************]  1 of 1 completed\n",
      "ticker = SPGI\n",
      "[*********************100%***********************]  1 of 1 completed\n",
      "ticker = IBM\n",
      "[*********************100%***********************]  1 of 1 completed\n",
      "ticker = T\n",
      "[*********************100%***********************]  1 of 1 completed\n",
      "ticker = KD\n",
      "[*********************100%***********************]  1 of 1 completed\n"
     ]
    },
    {
     "ename": "KeyError",
     "evalue": "\"['ticker'] not found in axis\"",
     "output_type": "error",
     "traceback": [
      "\u001b[1;31m---------------------------------------------------------------------------\u001b[0m",
      "\u001b[1;31mKeyError\u001b[0m                                  Traceback (most recent call last)",
      "Input \u001b[1;32mIn [48]\u001b[0m, in \u001b[0;36m<cell line: 5>\u001b[1;34m()\u001b[0m\n\u001b[0;32m      5\u001b[0m \u001b[38;5;28;01mfor\u001b[39;00m ticker \u001b[38;5;129;01min\u001b[39;00m stock_df[\u001b[38;5;124m'\u001b[39m\u001b[38;5;124mticker\u001b[39m\u001b[38;5;124m'\u001b[39m]:\n\u001b[0;32m      6\u001b[0m     analyzer \u001b[38;5;241m=\u001b[39m UsaStockDividendAnalyzer(ticker, DIV_PERIODS)\n\u001b[1;32m----> 7\u001b[0m     \u001b[43manalyzer\u001b[49m\u001b[38;5;241;43m.\u001b[39;49m\u001b[43mfit\u001b[49m\u001b[43m(\u001b[49m\u001b[43m)\u001b[49m\n\u001b[0;32m      8\u001b[0m     dividends\u001b[38;5;241m.\u001b[39mappend(analyzer\u001b[38;5;241m.\u001b[39mgetCurrentDividend())\n\u001b[0;32m      9\u001b[0m     dividend_yields\u001b[38;5;241m.\u001b[39mappend(analyzer\u001b[38;5;241m.\u001b[39mgetCurrentDividendYield())\n",
      "Input \u001b[1;32mIn [28]\u001b[0m, in \u001b[0;36mUsaStockDividendAnalyzer.fit\u001b[1;34m(self)\u001b[0m\n\u001b[0;32m     21\u001b[0m df_close_price \u001b[38;5;241m=\u001b[39m stock_data\u001b[38;5;241m.\u001b[39mloc[dividends\u001b[38;5;241m.\u001b[39mindex][\u001b[38;5;124m'\u001b[39m\u001b[38;5;124mClose\u001b[39m\u001b[38;5;124m'\u001b[39m]\n\u001b[0;32m     23\u001b[0m dividends[\u001b[38;5;124m'\u001b[39m\u001b[38;5;124mclose\u001b[39m\u001b[38;5;124m'\u001b[39m] \u001b[38;5;241m=\u001b[39m df_close_price\n\u001b[1;32m---> 25\u001b[0m dividends \u001b[38;5;241m=\u001b[39m \u001b[43mdividends\u001b[49m\u001b[38;5;241;43m.\u001b[39;49m\u001b[43mdrop\u001b[49m\u001b[43m(\u001b[49m\u001b[38;5;124;43m'\u001b[39;49m\u001b[38;5;124;43mticker\u001b[39;49m\u001b[38;5;124;43m'\u001b[39;49m\u001b[43m,\u001b[49m\u001b[43m \u001b[49m\u001b[43maxis\u001b[49m\u001b[38;5;241;43m=\u001b[39;49m\u001b[38;5;241;43m1\u001b[39;49m\u001b[43m)\u001b[49m\n\u001b[0;32m     27\u001b[0m div_freq \u001b[38;5;241m=\u001b[39m \u001b[38;5;28mround\u001b[39m(\u001b[38;5;28mlen\u001b[39m(dividends\u001b[38;5;241m.\u001b[39mindex)\u001b[38;5;241m/\u001b[39mperiod)\n\u001b[0;32m     29\u001b[0m dividends[\u001b[38;5;124m'\u001b[39m\u001b[38;5;124mdiv yield\u001b[39m\u001b[38;5;124m'\u001b[39m] \u001b[38;5;241m=\u001b[39m \u001b[38;5;28mround\u001b[39m(dividends[\u001b[38;5;124m'\u001b[39m\u001b[38;5;124mdividend\u001b[39m\u001b[38;5;124m'\u001b[39m]\u001b[38;5;241m*\u001b[39mdiv_freq \u001b[38;5;241m/\u001b[39m dividends[\u001b[38;5;124m'\u001b[39m\u001b[38;5;124mclose\u001b[39m\u001b[38;5;124m'\u001b[39m] \u001b[38;5;241m*\u001b[39m \u001b[38;5;241m100\u001b[39m, \u001b[38;5;241m2\u001b[39m)\n",
      "File \u001b[1;32m~\\anaconda3\\lib\\site-packages\\pandas\\util\\_decorators.py:311\u001b[0m, in \u001b[0;36mdeprecate_nonkeyword_arguments.<locals>.decorate.<locals>.wrapper\u001b[1;34m(*args, **kwargs)\u001b[0m\n\u001b[0;32m    305\u001b[0m \u001b[38;5;28;01mif\u001b[39;00m \u001b[38;5;28mlen\u001b[39m(args) \u001b[38;5;241m>\u001b[39m num_allow_args:\n\u001b[0;32m    306\u001b[0m     warnings\u001b[38;5;241m.\u001b[39mwarn(\n\u001b[0;32m    307\u001b[0m         msg\u001b[38;5;241m.\u001b[39mformat(arguments\u001b[38;5;241m=\u001b[39marguments),\n\u001b[0;32m    308\u001b[0m         \u001b[38;5;167;01mFutureWarning\u001b[39;00m,\n\u001b[0;32m    309\u001b[0m         stacklevel\u001b[38;5;241m=\u001b[39mstacklevel,\n\u001b[0;32m    310\u001b[0m     )\n\u001b[1;32m--> 311\u001b[0m \u001b[38;5;28;01mreturn\u001b[39;00m func(\u001b[38;5;241m*\u001b[39margs, \u001b[38;5;241m*\u001b[39m\u001b[38;5;241m*\u001b[39mkwargs)\n",
      "File \u001b[1;32m~\\anaconda3\\lib\\site-packages\\pandas\\core\\frame.py:4954\u001b[0m, in \u001b[0;36mDataFrame.drop\u001b[1;34m(self, labels, axis, index, columns, level, inplace, errors)\u001b[0m\n\u001b[0;32m   4806\u001b[0m \u001b[38;5;129m@deprecate_nonkeyword_arguments\u001b[39m(version\u001b[38;5;241m=\u001b[39m\u001b[38;5;28;01mNone\u001b[39;00m, allowed_args\u001b[38;5;241m=\u001b[39m[\u001b[38;5;124m\"\u001b[39m\u001b[38;5;124mself\u001b[39m\u001b[38;5;124m\"\u001b[39m, \u001b[38;5;124m\"\u001b[39m\u001b[38;5;124mlabels\u001b[39m\u001b[38;5;124m\"\u001b[39m])\n\u001b[0;32m   4807\u001b[0m \u001b[38;5;28;01mdef\u001b[39;00m \u001b[38;5;21mdrop\u001b[39m(\n\u001b[0;32m   4808\u001b[0m     \u001b[38;5;28mself\u001b[39m,\n\u001b[1;32m   (...)\u001b[0m\n\u001b[0;32m   4815\u001b[0m     errors: \u001b[38;5;28mstr\u001b[39m \u001b[38;5;241m=\u001b[39m \u001b[38;5;124m\"\u001b[39m\u001b[38;5;124mraise\u001b[39m\u001b[38;5;124m\"\u001b[39m,\n\u001b[0;32m   4816\u001b[0m ):\n\u001b[0;32m   4817\u001b[0m     \u001b[38;5;124;03m\"\"\"\u001b[39;00m\n\u001b[0;32m   4818\u001b[0m \u001b[38;5;124;03m    Drop specified labels from rows or columns.\u001b[39;00m\n\u001b[0;32m   4819\u001b[0m \n\u001b[1;32m   (...)\u001b[0m\n\u001b[0;32m   4952\u001b[0m \u001b[38;5;124;03m            weight  1.0     0.8\u001b[39;00m\n\u001b[0;32m   4953\u001b[0m \u001b[38;5;124;03m    \"\"\"\u001b[39;00m\n\u001b[1;32m-> 4954\u001b[0m     \u001b[38;5;28;01mreturn\u001b[39;00m \u001b[38;5;28;43msuper\u001b[39;49m\u001b[43m(\u001b[49m\u001b[43m)\u001b[49m\u001b[38;5;241;43m.\u001b[39;49m\u001b[43mdrop\u001b[49m\u001b[43m(\u001b[49m\n\u001b[0;32m   4955\u001b[0m \u001b[43m        \u001b[49m\u001b[43mlabels\u001b[49m\u001b[38;5;241;43m=\u001b[39;49m\u001b[43mlabels\u001b[49m\u001b[43m,\u001b[49m\n\u001b[0;32m   4956\u001b[0m \u001b[43m        \u001b[49m\u001b[43maxis\u001b[49m\u001b[38;5;241;43m=\u001b[39;49m\u001b[43maxis\u001b[49m\u001b[43m,\u001b[49m\n\u001b[0;32m   4957\u001b[0m \u001b[43m        \u001b[49m\u001b[43mindex\u001b[49m\u001b[38;5;241;43m=\u001b[39;49m\u001b[43mindex\u001b[49m\u001b[43m,\u001b[49m\n\u001b[0;32m   4958\u001b[0m \u001b[43m        \u001b[49m\u001b[43mcolumns\u001b[49m\u001b[38;5;241;43m=\u001b[39;49m\u001b[43mcolumns\u001b[49m\u001b[43m,\u001b[49m\n\u001b[0;32m   4959\u001b[0m \u001b[43m        \u001b[49m\u001b[43mlevel\u001b[49m\u001b[38;5;241;43m=\u001b[39;49m\u001b[43mlevel\u001b[49m\u001b[43m,\u001b[49m\n\u001b[0;32m   4960\u001b[0m \u001b[43m        \u001b[49m\u001b[43minplace\u001b[49m\u001b[38;5;241;43m=\u001b[39;49m\u001b[43minplace\u001b[49m\u001b[43m,\u001b[49m\n\u001b[0;32m   4961\u001b[0m \u001b[43m        \u001b[49m\u001b[43merrors\u001b[49m\u001b[38;5;241;43m=\u001b[39;49m\u001b[43merrors\u001b[49m\u001b[43m,\u001b[49m\n\u001b[0;32m   4962\u001b[0m \u001b[43m    \u001b[49m\u001b[43m)\u001b[49m\n",
      "File \u001b[1;32m~\\anaconda3\\lib\\site-packages\\pandas\\core\\generic.py:4267\u001b[0m, in \u001b[0;36mNDFrame.drop\u001b[1;34m(self, labels, axis, index, columns, level, inplace, errors)\u001b[0m\n\u001b[0;32m   4265\u001b[0m \u001b[38;5;28;01mfor\u001b[39;00m axis, labels \u001b[38;5;129;01min\u001b[39;00m axes\u001b[38;5;241m.\u001b[39mitems():\n\u001b[0;32m   4266\u001b[0m     \u001b[38;5;28;01mif\u001b[39;00m labels \u001b[38;5;129;01mis\u001b[39;00m \u001b[38;5;129;01mnot\u001b[39;00m \u001b[38;5;28;01mNone\u001b[39;00m:\n\u001b[1;32m-> 4267\u001b[0m         obj \u001b[38;5;241m=\u001b[39m \u001b[43mobj\u001b[49m\u001b[38;5;241;43m.\u001b[39;49m\u001b[43m_drop_axis\u001b[49m\u001b[43m(\u001b[49m\u001b[43mlabels\u001b[49m\u001b[43m,\u001b[49m\u001b[43m \u001b[49m\u001b[43maxis\u001b[49m\u001b[43m,\u001b[49m\u001b[43m \u001b[49m\u001b[43mlevel\u001b[49m\u001b[38;5;241;43m=\u001b[39;49m\u001b[43mlevel\u001b[49m\u001b[43m,\u001b[49m\u001b[43m \u001b[49m\u001b[43merrors\u001b[49m\u001b[38;5;241;43m=\u001b[39;49m\u001b[43merrors\u001b[49m\u001b[43m)\u001b[49m\n\u001b[0;32m   4269\u001b[0m \u001b[38;5;28;01mif\u001b[39;00m inplace:\n\u001b[0;32m   4270\u001b[0m     \u001b[38;5;28mself\u001b[39m\u001b[38;5;241m.\u001b[39m_update_inplace(obj)\n",
      "File \u001b[1;32m~\\anaconda3\\lib\\site-packages\\pandas\\core\\generic.py:4311\u001b[0m, in \u001b[0;36mNDFrame._drop_axis\u001b[1;34m(self, labels, axis, level, errors, consolidate, only_slice)\u001b[0m\n\u001b[0;32m   4309\u001b[0m         new_axis \u001b[38;5;241m=\u001b[39m axis\u001b[38;5;241m.\u001b[39mdrop(labels, level\u001b[38;5;241m=\u001b[39mlevel, errors\u001b[38;5;241m=\u001b[39merrors)\n\u001b[0;32m   4310\u001b[0m     \u001b[38;5;28;01melse\u001b[39;00m:\n\u001b[1;32m-> 4311\u001b[0m         new_axis \u001b[38;5;241m=\u001b[39m \u001b[43maxis\u001b[49m\u001b[38;5;241;43m.\u001b[39;49m\u001b[43mdrop\u001b[49m\u001b[43m(\u001b[49m\u001b[43mlabels\u001b[49m\u001b[43m,\u001b[49m\u001b[43m \u001b[49m\u001b[43merrors\u001b[49m\u001b[38;5;241;43m=\u001b[39;49m\u001b[43merrors\u001b[49m\u001b[43m)\u001b[49m\n\u001b[0;32m   4312\u001b[0m     indexer \u001b[38;5;241m=\u001b[39m axis\u001b[38;5;241m.\u001b[39mget_indexer(new_axis)\n\u001b[0;32m   4314\u001b[0m \u001b[38;5;66;03m# Case for non-unique axis\u001b[39;00m\n\u001b[0;32m   4315\u001b[0m \u001b[38;5;28;01melse\u001b[39;00m:\n",
      "File \u001b[1;32m~\\anaconda3\\lib\\site-packages\\pandas\\core\\indexes\\base.py:6644\u001b[0m, in \u001b[0;36mIndex.drop\u001b[1;34m(self, labels, errors)\u001b[0m\n\u001b[0;32m   6642\u001b[0m \u001b[38;5;28;01mif\u001b[39;00m mask\u001b[38;5;241m.\u001b[39many():\n\u001b[0;32m   6643\u001b[0m     \u001b[38;5;28;01mif\u001b[39;00m errors \u001b[38;5;241m!=\u001b[39m \u001b[38;5;124m\"\u001b[39m\u001b[38;5;124mignore\u001b[39m\u001b[38;5;124m\"\u001b[39m:\n\u001b[1;32m-> 6644\u001b[0m         \u001b[38;5;28;01mraise\u001b[39;00m \u001b[38;5;167;01mKeyError\u001b[39;00m(\u001b[38;5;124mf\u001b[39m\u001b[38;5;124m\"\u001b[39m\u001b[38;5;132;01m{\u001b[39;00m\u001b[38;5;28mlist\u001b[39m(labels[mask])\u001b[38;5;132;01m}\u001b[39;00m\u001b[38;5;124m not found in axis\u001b[39m\u001b[38;5;124m\"\u001b[39m)\n\u001b[0;32m   6645\u001b[0m     indexer \u001b[38;5;241m=\u001b[39m indexer[\u001b[38;5;241m~\u001b[39mmask]\n\u001b[0;32m   6646\u001b[0m \u001b[38;5;28;01mreturn\u001b[39;00m \u001b[38;5;28mself\u001b[39m\u001b[38;5;241m.\u001b[39mdelete(indexer)\n",
      "\u001b[1;31mKeyError\u001b[0m: \"['ticker'] not found in axis\""
     ]
    }
   ],
   "source": [
    "dividends = []\n",
    "dividend_yields = []\n",
    "buy_scores = []\n",
    "sell_scores= []\n",
    "for ticker in stock_df['ticker']:\n",
    "    analyzer = UsaStockDividendAnalyzer(ticker, DIV_PERIODS)\n",
    "    analyzer.fit()\n",
    "    dividends.append(analyzer.getCurrentDividend())\n",
    "    dividend_yields.append(analyzer.getCurrentDividendYield())\n",
    "    buy_scores.append(analyzer.getBuyScore())\n",
    "\n"
   ]
  },
  {
   "cell_type": "code",
   "execution_count": 49,
   "id": "09901ac1",
   "metadata": {
    "collapsed": true
   },
   "outputs": [
    {
     "data": {
      "text/plain": [
       "[5.88,\n",
       " 4.88,\n",
       " 4.64,\n",
       " 6.08,\n",
       " 2.92,\n",
       " 1.7,\n",
       " 2.976,\n",
       " 2.68,\n",
       " 2.612,\n",
       " 1.46,\n",
       " 4.244,\n",
       " 12.0,\n",
       " 2.72,\n",
       " 0.92,\n",
       " 4.96,\n",
       " 0.28,\n",
       " 4.52,\n",
       " 1.6,\n",
       " 2.48,\n",
       " 1.52,\n",
       " 3.4,\n",
       " 6.6,\n",
       " 1.112]"
      ]
     },
     "execution_count": 49,
     "metadata": {},
     "output_type": "execute_result"
    }
   ],
   "source": [
    "dividends"
   ]
  },
  {
   "cell_type": "code",
   "execution_count": 50,
   "id": "81743c80",
   "metadata": {
    "collapsed": true
   },
   "outputs": [
    {
     "data": {
      "text/plain": [
       "[2.67,\n",
       " 4.66,\n",
       " 3.34,\n",
       " 2.21,\n",
       " 2.62,\n",
       " 1.95,\n",
       " 4.6,\n",
       " 9.1,\n",
       " 6.97,\n",
       " 5.17,\n",
       " 5.28,\n",
       " 2.47,\n",
       " 1.06,\n",
       " 0.64,\n",
       " 2.82,\n",
       " 0.98,\n",
       " 2.51,\n",
       " 2.27,\n",
       " 2.56,\n",
       " 3.08,\n",
       " 0.96,\n",
       " 4.4,\n",
       " 5.88]"
      ]
     },
     "execution_count": 50,
     "metadata": {},
     "output_type": "execute_result"
    }
   ],
   "source": [
    "dividend_yields"
   ]
  },
  {
   "cell_type": "code",
   "execution_count": 51,
   "id": "e290eca7",
   "metadata": {
    "collapsed": true
   },
   "outputs": [
    {
     "data": {
      "text/plain": [
       "[73,\n",
       " 100,\n",
       " 48,\n",
       " 8,\n",
       " 0,\n",
       " 14,\n",
       " 56,\n",
       " 68,\n",
       " 102,\n",
       " 100,\n",
       " 28,\n",
       " 18,\n",
       " 16,\n",
       " 7,\n",
       " 57,\n",
       " 61,\n",
       " 21,\n",
       " 20,\n",
       " 92,\n",
       " 50,\n",
       " 30,\n",
       " 50,\n",
       " 10]"
      ]
     },
     "execution_count": 51,
     "metadata": {},
     "output_type": "execute_result"
    }
   ],
   "source": [
    "buy_scores"
   ]
  },
  {
   "cell_type": "code",
   "execution_count": 52,
   "id": "21f9ea8f",
   "metadata": {},
   "outputs": [],
   "source": [
    "result_df = pd.DataFrame({'annual dividend':dividends, \n",
    "                          'dividend yield': dividend_yields,\n",
    "                          'buy score': buy_scores})"
   ]
  },
  {
   "cell_type": "code",
   "execution_count": 56,
   "id": "77e24367",
   "metadata": {},
   "outputs": [],
   "source": [
    "final_df = pd.concat([stock_df, result_df], axis=1)"
   ]
  },
  {
   "cell_type": "code",
   "execution_count": 58,
   "id": "00568d80",
   "metadata": {},
   "outputs": [
    {
     "data": {
      "text/html": [
       "<div>\n",
       "<style scoped>\n",
       "    .dataframe tbody tr th:only-of-type {\n",
       "        vertical-align: middle;\n",
       "    }\n",
       "\n",
       "    .dataframe tbody tr th {\n",
       "        vertical-align: top;\n",
       "    }\n",
       "\n",
       "    .dataframe thead th {\n",
       "        text-align: right;\n",
       "    }\n",
       "</style>\n",
       "<table border=\"1\" class=\"dataframe\">\n",
       "  <thead>\n",
       "    <tr style=\"text-align: right;\">\n",
       "      <th></th>\n",
       "      <th>ticker</th>\n",
       "      <th>annual dividend</th>\n",
       "      <th>dividend yield</th>\n",
       "      <th>buy score</th>\n",
       "    </tr>\n",
       "  </thead>\n",
       "  <tbody>\n",
       "    <tr>\n",
       "      <th>0</th>\n",
       "      <td>AMT</td>\n",
       "      <td>5.88</td>\n",
       "      <td>2.67</td>\n",
       "      <td>73.0</td>\n",
       "    </tr>\n",
       "    <tr>\n",
       "      <th>1</th>\n",
       "      <td>DLR</td>\n",
       "      <td>4.88</td>\n",
       "      <td>4.66</td>\n",
       "      <td>100.0</td>\n",
       "    </tr>\n",
       "    <tr>\n",
       "      <th>2</th>\n",
       "      <td>KMB</td>\n",
       "      <td>4.64</td>\n",
       "      <td>3.34</td>\n",
       "      <td>48.0</td>\n",
       "    </tr>\n",
       "  </tbody>\n",
       "</table>\n",
       "</div>"
      ],
      "text/plain": [
       "  ticker  annual dividend  dividend yield  buy score\n",
       "0    AMT             5.88            2.67       73.0\n",
       "1    DLR             4.88            4.66      100.0\n",
       "2    KMB             4.64            3.34       48.0"
      ]
     },
     "execution_count": 58,
     "metadata": {},
     "output_type": "execute_result"
    }
   ],
   "source": [
    "final_df.head(3)"
   ]
  },
  {
   "cell_type": "code",
   "execution_count": 63,
   "id": "b68a1890",
   "metadata": {},
   "outputs": [],
   "source": [
    "final_df.to_excel('DIVIDEND-TABLE.xlsx', index=False)\n",
    "final_df.to_csv('DIVIDEND-TABLE.csv', index=False)"
   ]
  },
  {
   "cell_type": "code",
   "execution_count": null,
   "id": "58b47458",
   "metadata": {},
   "outputs": [],
   "source": []
  }
 ],
 "metadata": {
  "kernelspec": {
   "display_name": "Python 3 (ipykernel)",
   "language": "python",
   "name": "python3"
  },
  "language_info": {
   "codemirror_mode": {
    "name": "ipython",
    "version": 3
   },
   "file_extension": ".py",
   "mimetype": "text/x-python",
   "name": "python",
   "nbconvert_exporter": "python",
   "pygments_lexer": "ipython3",
   "version": "3.9.12"
  }
 },
 "nbformat": 4,
 "nbformat_minor": 5
}
