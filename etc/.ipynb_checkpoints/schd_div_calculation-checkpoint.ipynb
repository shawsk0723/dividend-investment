{
 "cells": [
  {
   "cell_type": "code",
   "execution_count": 2,
   "id": "aecf6e5b",
   "metadata": {},
   "outputs": [],
   "source": [
    "import math"
   ]
  },
  {
   "cell_type": "code",
   "execution_count": 6,
   "id": "ded35883",
   "metadata": {},
   "outputs": [
    {
     "data": {
      "text/plain": [
       "1067220.0"
      ]
     },
     "execution_count": 6,
     "metadata": {},
     "output_type": "execute_result"
    }
   ],
   "source": [
    "final_balance = 50000 * math.pow((1+3.62), 2)\n",
    "final_balance"
   ]
  },
  {
   "cell_type": "code",
   "execution_count": 7,
   "id": "279a7bfd",
   "metadata": {},
   "outputs": [
    {
     "data": {
      "text/plain": [
       "1280664000.0"
      ]
     },
     "execution_count": 7,
     "metadata": {},
     "output_type": "execute_result"
    }
   ],
   "source": [
    "final_balance * 1200"
   ]
  },
  {
   "cell_type": "code",
   "execution_count": null,
   "id": "9b190455",
   "metadata": {},
   "outputs": [],
   "source": []
  },
  {
   "cell_type": "code",
   "execution_count": 9,
   "id": "2f5fa121",
   "metadata": {},
   "outputs": [
    {
     "data": {
      "text/plain": [
       "33729.4845"
      ]
     },
     "execution_count": 9,
     "metadata": {},
     "output_type": "execute_result"
    }
   ],
   "source": [
    "div_amount = 6005 * math.pow((1+1.37), 2)\n",
    "div_amount"
   ]
  },
  {
   "cell_type": "code",
   "execution_count": 10,
   "id": "f00de3eb",
   "metadata": {},
   "outputs": [
    {
     "data": {
      "text/plain": [
       "40475381.4"
      ]
     },
     "execution_count": 10,
     "metadata": {},
     "output_type": "execute_result"
    }
   ],
   "source": [
    "div_amount * 1200"
   ]
  },
  {
   "cell_type": "code",
   "execution_count": 11,
   "id": "8b0b635c",
   "metadata": {},
   "outputs": [
    {
     "data": {
      "text/plain": [
       "1670000.0"
      ]
     },
     "execution_count": 11,
     "metadata": {},
     "output_type": "execute_result"
    }
   ],
   "source": [
    "cur_div = 50000000 * 0.0334\n",
    "cur_div"
   ]
  },
  {
   "cell_type": "code",
   "execution_count": 12,
   "id": "6d29577f",
   "metadata": {},
   "outputs": [
    {
     "data": {
      "text/plain": [
       "6229100.0"
      ]
     },
     "execution_count": 12,
     "metadata": {},
     "output_type": "execute_result"
    }
   ],
   "source": [
    "div_after_10 = cur_div * 3.73\n",
    "div_after_10"
   ]
  },
  {
   "cell_type": "code",
   "execution_count": 13,
   "id": "e0c98677",
   "metadata": {
    "scrolled": true
   },
   "outputs": [
    {
     "data": {
      "text/plain": [
       "34988231.79"
      ]
     },
     "execution_count": 13,
     "metadata": {},
     "output_type": "execute_result"
    }
   ],
   "source": [
    "div_after_20 = div_after_10 * math.pow((1+1.37), 2)\n",
    "div_after_20"
   ]
  },
  {
   "cell_type": "code",
   "execution_count": 14,
   "id": "22e9e985",
   "metadata": {},
   "outputs": [
    {
     "data": {
      "text/plain": [
       "2915685.9825"
      ]
     },
     "execution_count": 14,
     "metadata": {},
     "output_type": "execute_result"
    }
   ],
   "source": [
    "div_after_20_per_month = div_after_20 / 12\n",
    "div_after_20_per_month"
   ]
  },
  {
   "cell_type": "code",
   "execution_count": null,
   "id": "3df174af",
   "metadata": {},
   "outputs": [],
   "source": []
  }
 ],
 "metadata": {
  "kernelspec": {
   "display_name": "Python 3 (ipykernel)",
   "language": "python",
   "name": "python3"
  },
  "language_info": {
   "codemirror_mode": {
    "name": "ipython",
    "version": 3
   },
   "file_extension": ".py",
   "mimetype": "text/x-python",
   "name": "python",
   "nbconvert_exporter": "python",
   "pygments_lexer": "ipython3",
   "version": "3.9.13"
  }
 },
 "nbformat": 4,
 "nbformat_minor": 5
}
