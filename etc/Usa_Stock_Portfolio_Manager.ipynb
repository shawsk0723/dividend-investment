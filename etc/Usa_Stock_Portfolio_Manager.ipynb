{
 "cells": [
  {
   "cell_type": "code",
   "execution_count": 1,
   "id": "8f75ff24",
   "metadata": {},
   "outputs": [],
   "source": [
    "import pandas as pd\n",
    "from  StockBasicInfo import *\n",
    "import warnings\n",
    "warnings.filterwarnings('ignore')"
   ]
  },
  {
   "cell_type": "code",
   "execution_count": 5,
   "id": "e1fe6f2b",
   "metadata": {},
   "outputs": [],
   "source": [
    "TICKER = 'ticker'\n",
    "ANNUAL_DIVIDEND = 'annual dividend'\n",
    "DIVIDEND_YIELD = 'dividend yield'\n",
    "ROE = 'roe'\n",
    "PAYOUT_RATIO = 'payout ratio'\n",
    "BUY_SCORE = 'buy score'\n",
    "\n",
    "def saveUsaStockDividendToCSV(tickers):\n",
    "    try:\n",
    "        # 주식별 배당 정보 가져오기\n",
    "        annualDividendList = []\n",
    "        dividendYieldList = []\n",
    "        roeList = []\n",
    "        payoutRatioList = []\n",
    "        buyScoreList = []\n",
    "        for ticker in tickers:\n",
    "            try:\n",
    "                buyScoreList.append(getBuyScore(ticker))\n",
    "                usaStock = StockBasicInfo(ticker)\n",
    "                annualDividendList.append(usaStock.getDividend())\n",
    "                dividendYieldList.append(usaStock.getDividendYield())\n",
    "                roeList.append(usaStock.getRoe())\n",
    "                payoutRatioList.append(usaStock.getPayoutRatio())\n",
    "            except Exception as e:\n",
    "                print(f'exception happens while collecting stock info ticker = {ticker}')\n",
    "                print(e)\n",
    "\n",
    "        # 배당 정보를 딕셔너리로 변환\n",
    "        dividendYieldDic = {}\n",
    "        dividendYieldDic[TICKER] = tickers\n",
    "        dividendYieldDic[BUY_SCORE] = buyScoreList        \n",
    "        dividendYieldDic[ANNUAL_DIVIDEND] = annualDividendList\n",
    "        dividendYieldDic[DIVIDEND_YIELD] = dividendYieldList\n",
    "        dividendYieldDic[ROE] = roeList\n",
    "        dividendYieldDic[PAYOUT_RATIO] = payoutRatioList\n",
    "\n",
    "        # 딕셔너리를 데이터프레임으로 변환\n",
    "        dividendYieldDF = pd.DataFrame(dividendYieldDic)\n",
    "        print(dividendYieldDF)\n",
    "\n",
    "        # 데이터프레임을 엑셀로 저장\n",
    "        dividendYieldDF.to_csv('UsaStockDividendTable.csv',index=False)\n",
    "        #dividendYieldDF.to_excel('UsaStockDividendTable.xlsx',index=False)\n",
    "    except Exception as e:\n",
    "        raise(e)\n"
   ]
  },
  {
   "cell_type": "code",
   "execution_count": 6,
   "id": "0ee2227b",
   "metadata": {},
   "outputs": [],
   "source": [
    "def main():\n",
    "    try:\n",
    "        df_stock_list = pd.read_csv('usa-dividend-stock-list.csv')\n",
    "        ticker_list = df_stock_list.ticker.to_list()\n",
    "        ticker_list.sort()\n",
    "        print(ticker_list)\n",
    "        saveUsaStockDividendToCSV(ticker_list)\n",
    "    except Exception as e:\n",
    "        print(e)\n",
    "        #traceback.format_exc(e)"
   ]
  },
  {
   "cell_type": "code",
   "execution_count": null,
   "id": "2f831f86",
   "metadata": {},
   "outputs": [
    {
     "name": "stdout",
     "output_type": "stream",
     "text": [
      "['AAPL', 'AFL', 'AMT', 'CSCO', 'DLR', 'IBM', 'INTC', 'JNJ', 'KD', 'KMB', 'LMT', 'MCD', 'MRK', 'MSFT', 'NEE', 'O', 'OGN', 'OHI', 'ONL', 'SPGI', 'SWKS', 'T', 'TXN', 'VZ', 'WPC']\n",
      "ticker = AAPL\n",
      "ticker = AAPL\n",
      "[*********************100%***********************]  1 of 1 completed\n",
      "Forward Annual Dividend Rate 4 = 0.92\n",
      "Forward Annual Dividend Yield 4 = 0.58%\n",
      "Return on Equity (ttm) = 147.94%\n",
      "Payout Ratio 4 = 15.45%\n",
      "ticker = AFL\n",
      "ticker = AFL\n",
      "[*********************100%***********************]  1 of 1 completed\n",
      "Forward Annual Dividend Rate 4 = 1.68\n",
      "Forward Annual Dividend Yield 4 = 2.64%\n",
      "Return on Equity (ttm) = 15.11%\n",
      "Payout Ratio 4 = 24.28%\n",
      "ticker = AMT\n",
      "ticker = AMT\n",
      "[*********************100%***********************]  1 of 1 completed\n",
      "Forward Annual Dividend Rate 4 = 6.24\n",
      "Forward Annual Dividend Yield 4 = 3.24%\n",
      "Return on Equity (ttm) = 15.80%\n",
      "Payout Ratio 4 = 153.40%\n",
      "ticker = CSCO\n",
      "ticker = CSCO\n",
      "[*********************100%***********************]  1 of 1 completed\n",
      "Forward Annual Dividend Rate 4 = 1.56\n",
      "Forward Annual Dividend Yield 4 = 3.10%\n",
      "Return on Equity (ttm) = 27.92%\n",
      "Payout Ratio 4 = 55.68%\n",
      "ticker = DLR\n",
      "ticker = DLR\n",
      "[*********************100%***********************]  1 of 1 completed\n",
      "Forward Annual Dividend Rate 4 = 4.88\n",
      "Forward Annual Dividend Yield 4 = 5.34%\n",
      "Return on Equity (ttm) = 1.99%\n",
      "Payout Ratio 4 = 439.64%\n",
      "ticker = IBM\n",
      "ticker = IBM\n",
      "[*********************100%***********************]  1 of 1 completed\n",
      "Forward Annual Dividend Rate 4 = 6.6\n",
      "Forward Annual Dividend Yield 4 = 5.10%\n",
      "Return on Equity (ttm) = 8.69%\n",
      "Payout Ratio 4 = 337.95%\n",
      "ticker = INTC\n",
      "ticker = INTC\n",
      "[*********************100%***********************]  1 of 1 completed\n",
      "Forward Annual Dividend Rate 4 = 0.5\n",
      "Forward Annual Dividend Yield 4 = 1.71%\n",
      "Return on Equity (ttm) = 8.07%\n",
      "Payout Ratio 4 = 75.26%\n",
      "ticker = JNJ\n",
      "ticker = JNJ\n",
      "[*********************100%***********************]  1 of 1 completed\n",
      "Forward Annual Dividend Rate 4 = 4.52\n",
      "Forward Annual Dividend Yield 4 = 2.98%\n",
      "Return on Equity (ttm) = 23.79%\n",
      "Payout Ratio 4 = 66.12%\n",
      "ticker = KD\n",
      "ticker = KD\n",
      "exception happens while collecting stock info ticker = KD\n",
      "'>=' not supported between instances of 'KeyError' and 'int'\n",
      "ticker = KMB\n",
      "ticker = KMB\n"
     ]
    }
   ],
   "source": [
    "main()"
   ]
  },
  {
   "cell_type": "code",
   "execution_count": null,
   "id": "f369be68",
   "metadata": {},
   "outputs": [],
   "source": []
  },
  {
   "cell_type": "code",
   "execution_count": null,
   "id": "c9165180",
   "metadata": {},
   "outputs": [],
   "source": [
    "\"\"\"\n",
    "TEST\n",
    "\"\"\"\"\"\""
   ]
  },
  {
   "cell_type": "code",
   "execution_count": 4,
   "id": "51f3396b",
   "metadata": {},
   "outputs": [
    {
     "name": "stdout",
     "output_type": "stream",
     "text": [
      "Forward Annual Dividend Rate 4 = 1.11\n",
      "Forward Annual Dividend Yield 4 = 5.93%\n",
      "Return on Equity (ttm) = -4.74%\n",
      "ticker = T\n",
      "[*********************100%***********************]  1 of 1 completed\n",
      "Payout Ratio 4 = nan\n"
     ]
    }
   ],
   "source": [
    "\n",
    "\n",
    "ticker = 'T'\n",
    "\n",
    "annualDividendList = []\n",
    "dividendYieldList = []\n",
    "roeList = []\n",
    "payoutRatioList = []\n",
    "buyScoreList = []\n",
    "\n",
    "usaStock = StockBasicInfo(ticker)\n",
    "annualDividendList.append(usaStock.getDividend())\n",
    "dividendYieldList.append(usaStock.getDividendYield())\n",
    "roeList.append(usaStock.getRoe())\n",
    "buyScoreList.append(getBuyScore(ticker))\n",
    "payoutRatioList.append(usaStock.getPayoutRatio())\n"
   ]
  },
  {
   "cell_type": "code",
   "execution_count": null,
   "id": "38fea623",
   "metadata": {},
   "outputs": [],
   "source": [
    "df_stock_list = pd.read_csv('usa-dividend-stock-list.csv')\n",
    "ticker_list = df_stock_list.ticker.to_list()\n",
    "ticker_list.sort()\n",
    "ticker_list"
   ]
  },
  {
   "cell_type": "code",
   "execution_count": null,
   "id": "1c4e56b9",
   "metadata": {},
   "outputs": [],
   "source": [
    "df_stock_list.ticker.to_list()"
   ]
  },
  {
   "cell_type": "code",
   "execution_count": null,
   "id": "408a4fb6",
   "metadata": {},
   "outputs": [],
   "source": []
  }
 ],
 "metadata": {
  "kernelspec": {
   "display_name": "Python 3 (ipykernel)",
   "language": "python",
   "name": "python3"
  },
  "language_info": {
   "codemirror_mode": {
    "name": "ipython",
    "version": 3
   },
   "file_extension": ".py",
   "mimetype": "text/x-python",
   "name": "python",
   "nbconvert_exporter": "python",
   "pygments_lexer": "ipython3",
   "version": "3.9.13"
  }
 },
 "nbformat": 4,
 "nbformat_minor": 5
}
