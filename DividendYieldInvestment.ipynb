{
 "cells": [
  {
   "cell_type": "raw",
   "id": "4ab65d5d",
   "metadata": {},
   "source": [
    "%pip install yfinance\n",
    "%pip install yahoo_fin"
   ]
  },
  {
   "cell_type": "raw",
   "id": "f05742ae",
   "metadata": {},
   "source": []
  },
  {
   "cell_type": "code",
   "execution_count": 1,
   "id": "c65b04a5",
   "metadata": {},
   "outputs": [],
   "source": [
    "import yfinance as yf\n",
    "from yahoo_fin import stock_info"
   ]
  },
  {
   "cell_type": "code",
   "execution_count": 2,
   "id": "e9c50db6",
   "metadata": {},
   "outputs": [],
   "source": [
    "from datetime import datetime\n",
    "from dateutil.relativedelta import relativedelta"
   ]
  },
  {
   "cell_type": "code",
   "execution_count": 3,
   "id": "37b2b870",
   "metadata": {
    "collapsed": true
   },
   "outputs": [],
   "source": [
    "TICKER = 'IBM'\n",
    "DIV_PERIODS = 10"
   ]
  },
  {
   "cell_type": "code",
   "execution_count": 4,
   "id": "2cd7332a",
   "metadata": {},
   "outputs": [],
   "source": [
    "stock_basic_info = yf.Ticker(TICKER).info"
   ]
  },
  {
   "cell_type": "code",
   "execution_count": 5,
   "id": "8d24e483",
   "metadata": {
    "collapsed": true
   },
   "outputs": [
    {
     "data": {
      "text/plain": [
       "{'zip': '10504',\n",
       " 'sector': 'Technology',\n",
       " 'fullTimeEmployees': 282100,\n",
       " 'longBusinessSummary': \"International Business Machines Corporation provides integrated solutions and services worldwide. The company operates through four business segments: Software, Consulting, Infrastructure, and Financing. The Software segment offers hybrid cloud platform and software solutions, such as Red Hat, an enterprise open-source solutions; software for business automation, AIOps and management, integration, and application servers; data and artificial intelligence solutions; and security software and services for threat, data, and identity. This segment also provides transaction processing software that supports clients' mission-critical and on-premise workloads in banking, airlines, and retail industries. The Consulting segment offers business transformation services, including strategy, business process design and operations, data and analytics, and system integration services; technology consulting services; and application and cloud platform services. The Infrastructure segment provides on-premises and cloud-based server and storage solutions for its clients' mission-critical and regulated workloads; and support services and solutions for hybrid cloud infrastructure, as well as remanufacturing and remarketing services for used equipment. The Financing segment offers lease, installment payment, loan financing, and short-term working capital financing services. The company was formerly known as Computing-Tabulating-Recording Co. International Business Machines Corporation was incorporated in 1911 and is headquartered in Armonk, New York.\",\n",
       " 'city': 'Armonk',\n",
       " 'phone': '914 499 1900',\n",
       " 'state': 'NY',\n",
       " 'country': 'United States',\n",
       " 'companyOfficers': [],\n",
       " 'website': 'https://www.ibm.com',\n",
       " 'maxAge': 1,\n",
       " 'address1': 'One New Orchard Road',\n",
       " 'industry': 'Information Technology Services',\n",
       " 'ebitdaMargins': 0.1984,\n",
       " 'profitMargins': 0.02085,\n",
       " 'grossMargins': 0.53782004,\n",
       " 'operatingCashflow': 9013999616,\n",
       " 'revenueGrowth': 0.065,\n",
       " 'operatingMargins': 0.11504,\n",
       " 'ebitda': 12010000384,\n",
       " 'targetLowPrice': 111,\n",
       " 'recommendationKey': 'buy',\n",
       " 'grossProfits': 31486000000,\n",
       " 'freeCashflow': 6879750144,\n",
       " 'targetMedianPrice': 142.3,\n",
       " 'currentPrice': 150.57,\n",
       " 'earningsGrowth': None,\n",
       " 'currentRatio': 0.952,\n",
       " 'returnOnAssets': 0.03223,\n",
       " 'numberOfAnalystOpinions': 17,\n",
       " 'targetMeanPrice': 141.66,\n",
       " 'debtToEquity': 267.166,\n",
       " 'returnOnEquity': 0.06475,\n",
       " 'targetHighPrice': 165,\n",
       " 'totalCash': 9569000448,\n",
       " 'totalDebt': 53825998848,\n",
       " 'totalRevenue': 60535001088,\n",
       " 'totalCashPerShare': 10.584,\n",
       " 'financialCurrency': 'USD',\n",
       " 'revenuePerShare': 67.204,\n",
       " 'quickRatio': 0.742,\n",
       " 'recommendationMean': 2.5,\n",
       " 'exchange': 'NYQ',\n",
       " 'shortName': 'International Business Machines',\n",
       " 'longName': 'International Business Machines Corporation',\n",
       " 'exchangeTimezoneName': 'America/New_York',\n",
       " 'exchangeTimezoneShortName': 'EST',\n",
       " 'isEsgPopulated': False,\n",
       " 'gmtOffSetMilliseconds': '-18000000',\n",
       " 'quoteType': 'EQUITY',\n",
       " 'symbol': 'IBM',\n",
       " 'messageBoardId': 'finmb_112350',\n",
       " 'market': 'us_market',\n",
       " 'annualHoldingsTurnover': None,\n",
       " 'enterpriseToRevenue': 2.981,\n",
       " 'beta3Year': None,\n",
       " 'enterpriseToEbitda': 15.026,\n",
       " '52WeekChange': 0.2120055,\n",
       " 'morningStarRiskRating': None,\n",
       " 'forwardEps': 9.67,\n",
       " 'revenueQuarterlyGrowth': None,\n",
       " 'sharesOutstanding': 896320000,\n",
       " 'fundInceptionDate': None,\n",
       " 'annualReportExpenseRatio': None,\n",
       " 'totalAssets': None,\n",
       " 'bookValue': 22.205,\n",
       " 'sharesShort': 29924653,\n",
       " 'sharesPercentSharesOut': 0.033099998,\n",
       " 'fundFamily': None,\n",
       " 'lastFiscalYearEnd': 1640908800,\n",
       " 'heldPercentInstitutions': 0.58409,\n",
       " 'netIncomeToCommon': 1376000000,\n",
       " 'trailingEps': 6.089,\n",
       " 'lastDividendValue': 1.65,\n",
       " 'SandP52WeekChange': -0.15272039,\n",
       " 'priceToBook': 6.7809057,\n",
       " 'heldPercentInsiders': 0.00089,\n",
       " 'nextFiscalYearEnd': 1703980800,\n",
       " 'yield': None,\n",
       " 'mostRecentQuarter': 1664496000,\n",
       " 'shortRatio': 6.68,\n",
       " 'sharesShortPreviousMonthDate': 1667174400,\n",
       " 'floatShares': 903014288,\n",
       " 'beta': 0.889008,\n",
       " 'enterpriseValue': 180462305280,\n",
       " 'priceHint': 2,\n",
       " 'threeYearAverageReturn': None,\n",
       " 'lastSplitDate': 1635984000,\n",
       " 'lastSplitFactor': '1046:1000',\n",
       " 'legalType': None,\n",
       " 'lastDividendDate': 1667952000,\n",
       " 'morningStarOverallRating': None,\n",
       " 'earningsQuarterlyGrowth': None,\n",
       " 'priceToSalesTrailing12Months': 2.229436,\n",
       " 'dateShortInterest': 1669766400,\n",
       " 'pegRatio': 1.77,\n",
       " 'ytdReturn': None,\n",
       " 'forwardPE': 15.570838,\n",
       " 'lastCapGain': None,\n",
       " 'shortPercentOfFloat': 0.033099998,\n",
       " 'sharesShortPriorMonth': 28957162,\n",
       " 'impliedSharesOutstanding': None,\n",
       " 'category': None,\n",
       " 'fiveYearAverageReturn': None,\n",
       " 'previousClose': 149.21,\n",
       " 'regularMarketOpen': 150.37,\n",
       " 'twoHundredDayAverage': 133.28415,\n",
       " 'trailingAnnualDividendYield': 0.04416594,\n",
       " 'payoutRatio': 4.3576,\n",
       " 'volume24Hr': None,\n",
       " 'regularMarketDayHigh': 153.21,\n",
       " 'navPrice': None,\n",
       " 'averageDailyVolume10Day': 3587640,\n",
       " 'regularMarketPreviousClose': 149.21,\n",
       " 'fiftyDayAverage': 136.7612,\n",
       " 'trailingAnnualDividendRate': 6.59,\n",
       " 'open': 150.37,\n",
       " 'toCurrency': None,\n",
       " 'averageVolume10days': 3587640,\n",
       " 'expireDate': None,\n",
       " 'algorithm': None,\n",
       " 'dividendRate': 6.6,\n",
       " 'exDividendDate': 1667952000,\n",
       " 'circulatingSupply': None,\n",
       " 'startDate': None,\n",
       " 'regularMarketDayLow': 149.95,\n",
       " 'currency': 'USD',\n",
       " 'trailingPE': 24.728199,\n",
       " 'regularMarketVolume': 8700909,\n",
       " 'lastMarket': None,\n",
       " 'maxSupply': None,\n",
       " 'openInterest': None,\n",
       " 'marketCap': 134958907392,\n",
       " 'volumeAllCurrencies': None,\n",
       " 'strikePrice': None,\n",
       " 'averageVolume': 4686790,\n",
       " 'dayLow': 149.95,\n",
       " 'ask': 151.12,\n",
       " 'askSize': 800,\n",
       " 'volume': 8700909,\n",
       " 'fiftyTwoWeekHigh': 153.21,\n",
       " 'fromCurrency': None,\n",
       " 'fiveYearAvgDividendYield': 4.81,\n",
       " 'fiftyTwoWeekLow': 115.55,\n",
       " 'bid': 150.4,\n",
       " 'tradeable': False,\n",
       " 'dividendYield': 0.0438,\n",
       " 'bidSize': 800,\n",
       " 'dayHigh': 153.21,\n",
       " 'coinMarketCapLink': None,\n",
       " 'regularMarketPrice': 150.57,\n",
       " 'preMarketPrice': 150.82,\n",
       " 'logo_url': 'https://logo.clearbit.com/ibm.com',\n",
       " 'trailingPegRatio': 1.2586}"
      ]
     },
     "execution_count": 5,
     "metadata": {},
     "output_type": "execute_result"
    }
   ],
   "source": [
    "stock_basic_info"
   ]
  },
  {
   "cell_type": "markdown",
   "id": "c6911fac",
   "metadata": {},
   "source": [
    "10년간 배당금 정보 가져 오기"
   ]
  },
  {
   "cell_type": "code",
   "execution_count": 6,
   "id": "a98b3b01",
   "metadata": {},
   "outputs": [
    {
     "name": "stdout",
     "output_type": "stream",
     "text": [
      "start date:  2022-12-14\n",
      "end date:  2012-12-14\n"
     ]
    }
   ],
   "source": [
    "end_date = datetime.now().strftime(\"%Y-%m-%d\")\n",
    "print(\"start date: \" , end_date)\n",
    "start_date = (datetime.now() - relativedelta(years=DIV_PERIODS)).strftime(\"%Y-%m-%d\")\n",
    "print(\"end date: \", start_date)"
   ]
  },
  {
   "cell_type": "code",
   "execution_count": 8,
   "id": "212d01ca",
   "metadata": {},
   "outputs": [],
   "source": [
    "dividends = stock_info.get_dividends(TICKER, start_date=start_date, end_date=end_date)"
   ]
  },
  {
   "cell_type": "code",
   "execution_count": 9,
   "id": "fbe318c0",
   "metadata": {},
   "outputs": [
    {
     "data": {
      "text/html": [
       "<div>\n",
       "<style scoped>\n",
       "    .dataframe tbody tr th:only-of-type {\n",
       "        vertical-align: middle;\n",
       "    }\n",
       "\n",
       "    .dataframe tbody tr th {\n",
       "        vertical-align: top;\n",
       "    }\n",
       "\n",
       "    .dataframe thead th {\n",
       "        text-align: right;\n",
       "    }\n",
       "</style>\n",
       "<table border=\"1\" class=\"dataframe\">\n",
       "  <thead>\n",
       "    <tr style=\"text-align: right;\">\n",
       "      <th></th>\n",
       "      <th>dividend</th>\n",
       "      <th>ticker</th>\n",
       "    </tr>\n",
       "  </thead>\n",
       "  <tbody>\n",
       "    <tr>\n",
       "      <th>2013-02-06</th>\n",
       "      <td>0.812620</td>\n",
       "      <td>IBM</td>\n",
       "    </tr>\n",
       "    <tr>\n",
       "      <th>2013-05-08</th>\n",
       "      <td>0.908222</td>\n",
       "      <td>IBM</td>\n",
       "    </tr>\n",
       "    <tr>\n",
       "      <th>2013-08-07</th>\n",
       "      <td>0.908222</td>\n",
       "      <td>IBM</td>\n",
       "    </tr>\n",
       "  </tbody>\n",
       "</table>\n",
       "</div>"
      ],
      "text/plain": [
       "            dividend ticker\n",
       "2013-02-06  0.812620    IBM\n",
       "2013-05-08  0.908222    IBM\n",
       "2013-08-07  0.908222    IBM"
      ]
     },
     "execution_count": 9,
     "metadata": {},
     "output_type": "execute_result"
    }
   ],
   "source": [
    "dividends.head(3)"
   ]
  },
  {
   "cell_type": "code",
   "execution_count": 10,
   "id": "93595cdd",
   "metadata": {},
   "outputs": [
    {
     "data": {
      "text/html": [
       "<div>\n",
       "<style scoped>\n",
       "    .dataframe tbody tr th:only-of-type {\n",
       "        vertical-align: middle;\n",
       "    }\n",
       "\n",
       "    .dataframe tbody tr th {\n",
       "        vertical-align: top;\n",
       "    }\n",
       "\n",
       "    .dataframe thead th {\n",
       "        text-align: right;\n",
       "    }\n",
       "</style>\n",
       "<table border=\"1\" class=\"dataframe\">\n",
       "  <thead>\n",
       "    <tr style=\"text-align: right;\">\n",
       "      <th></th>\n",
       "      <th>dividend</th>\n",
       "      <th>ticker</th>\n",
       "    </tr>\n",
       "  </thead>\n",
       "  <tbody>\n",
       "    <tr>\n",
       "      <th>2022-05-09</th>\n",
       "      <td>1.65</td>\n",
       "      <td>IBM</td>\n",
       "    </tr>\n",
       "    <tr>\n",
       "      <th>2022-08-09</th>\n",
       "      <td>1.65</td>\n",
       "      <td>IBM</td>\n",
       "    </tr>\n",
       "    <tr>\n",
       "      <th>2022-11-09</th>\n",
       "      <td>1.65</td>\n",
       "      <td>IBM</td>\n",
       "    </tr>\n",
       "  </tbody>\n",
       "</table>\n",
       "</div>"
      ],
      "text/plain": [
       "            dividend ticker\n",
       "2022-05-09      1.65    IBM\n",
       "2022-08-09      1.65    IBM\n",
       "2022-11-09      1.65    IBM"
      ]
     },
     "execution_count": 10,
     "metadata": {},
     "output_type": "execute_result"
    }
   ],
   "source": [
    "dividends.tail(3)"
   ]
  },
  {
   "cell_type": "markdown",
   "id": "99685149",
   "metadata": {},
   "source": [
    "10년간 주가 정보 가져오기"
   ]
  },
  {
   "cell_type": "code",
   "execution_count": 12,
   "id": "9e4c1b68",
   "metadata": {},
   "outputs": [
    {
     "name": "stdout",
     "output_type": "stream",
     "text": [
      "[*********************100%***********************]  1 of 1 completed\n"
     ]
    }
   ],
   "source": [
    "# Get the data\n",
    "stock_data = yf.download(TICKER, start_date, end_date)"
   ]
  },
  {
   "cell_type": "code",
   "execution_count": 13,
   "id": "73703d43",
   "metadata": {},
   "outputs": [
    {
     "data": {
      "text/html": [
       "<div>\n",
       "<style scoped>\n",
       "    .dataframe tbody tr th:only-of-type {\n",
       "        vertical-align: middle;\n",
       "    }\n",
       "\n",
       "    .dataframe tbody tr th {\n",
       "        vertical-align: top;\n",
       "    }\n",
       "\n",
       "    .dataframe thead th {\n",
       "        text-align: right;\n",
       "    }\n",
       "</style>\n",
       "<table border=\"1\" class=\"dataframe\">\n",
       "  <thead>\n",
       "    <tr style=\"text-align: right;\">\n",
       "      <th></th>\n",
       "      <th>Open</th>\n",
       "      <th>High</th>\n",
       "      <th>Low</th>\n",
       "      <th>Close</th>\n",
       "      <th>Adj Close</th>\n",
       "      <th>Volume</th>\n",
       "    </tr>\n",
       "    <tr>\n",
       "      <th>Date</th>\n",
       "      <th></th>\n",
       "      <th></th>\n",
       "      <th></th>\n",
       "      <th></th>\n",
       "      <th></th>\n",
       "      <th></th>\n",
       "    </tr>\n",
       "  </thead>\n",
       "  <tbody>\n",
       "    <tr>\n",
       "      <th>2012-12-14</th>\n",
       "      <td>183.260040</td>\n",
       "      <td>184.894836</td>\n",
       "      <td>182.848953</td>\n",
       "      <td>183.326965</td>\n",
       "      <td>124.062294</td>\n",
       "      <td>4002937</td>\n",
       "    </tr>\n",
       "    <tr>\n",
       "      <th>2012-12-17</th>\n",
       "      <td>183.326965</td>\n",
       "      <td>185.382416</td>\n",
       "      <td>183.326965</td>\n",
       "      <td>185.105164</td>\n",
       "      <td>125.265633</td>\n",
       "      <td>3966850</td>\n",
       "    </tr>\n",
       "    <tr>\n",
       "      <th>2012-12-18</th>\n",
       "      <td>185.325043</td>\n",
       "      <td>187.304016</td>\n",
       "      <td>185.315491</td>\n",
       "      <td>187.084137</td>\n",
       "      <td>126.604858</td>\n",
       "      <td>4315691</td>\n",
       "    </tr>\n",
       "  </tbody>\n",
       "</table>\n",
       "</div>"
      ],
      "text/plain": [
       "                  Open        High         Low       Close   Adj Close  \\\n",
       "Date                                                                     \n",
       "2012-12-14  183.260040  184.894836  182.848953  183.326965  124.062294   \n",
       "2012-12-17  183.326965  185.382416  183.326965  185.105164  125.265633   \n",
       "2012-12-18  185.325043  187.304016  185.315491  187.084137  126.604858   \n",
       "\n",
       "             Volume  \n",
       "Date                 \n",
       "2012-12-14  4002937  \n",
       "2012-12-17  3966850  \n",
       "2012-12-18  4315691  "
      ]
     },
     "execution_count": 13,
     "metadata": {},
     "output_type": "execute_result"
    }
   ],
   "source": [
    "stock_data.head(3)"
   ]
  },
  {
   "cell_type": "code",
   "execution_count": 14,
   "id": "686e9c56",
   "metadata": {},
   "outputs": [
    {
     "data": {
      "text/html": [
       "<div>\n",
       "<style scoped>\n",
       "    .dataframe tbody tr th:only-of-type {\n",
       "        vertical-align: middle;\n",
       "    }\n",
       "\n",
       "    .dataframe tbody tr th {\n",
       "        vertical-align: top;\n",
       "    }\n",
       "\n",
       "    .dataframe thead th {\n",
       "        text-align: right;\n",
       "    }\n",
       "</style>\n",
       "<table border=\"1\" class=\"dataframe\">\n",
       "  <thead>\n",
       "    <tr style=\"text-align: right;\">\n",
       "      <th></th>\n",
       "      <th>Open</th>\n",
       "      <th>High</th>\n",
       "      <th>Low</th>\n",
       "      <th>Close</th>\n",
       "      <th>Adj Close</th>\n",
       "      <th>Volume</th>\n",
       "    </tr>\n",
       "  </thead>\n",
       "  <tbody>\n",
       "    <tr>\n",
       "      <th>2013-02-06</th>\n",
       "      <td>191.577438</td>\n",
       "      <td>192.437866</td>\n",
       "      <td>190.783936</td>\n",
       "      <td>192.179733</td>\n",
       "      <td>130.600601</td>\n",
       "      <td>3790913</td>\n",
       "    </tr>\n",
       "    <tr>\n",
       "      <th>2013-05-08</th>\n",
       "      <td>194.015289</td>\n",
       "      <td>195.841293</td>\n",
       "      <td>193.604202</td>\n",
       "      <td>195.812622</td>\n",
       "      <td>133.693161</td>\n",
       "      <td>3767378</td>\n",
       "    </tr>\n",
       "    <tr>\n",
       "      <th>2013-08-07</th>\n",
       "      <td>181.261948</td>\n",
       "      <td>181.577438</td>\n",
       "      <td>179.780121</td>\n",
       "      <td>180.267685</td>\n",
       "      <td>123.694908</td>\n",
       "      <td>4081178</td>\n",
       "    </tr>\n",
       "  </tbody>\n",
       "</table>\n",
       "</div>"
      ],
      "text/plain": [
       "                  Open        High         Low       Close   Adj Close  \\\n",
       "2013-02-06  191.577438  192.437866  190.783936  192.179733  130.600601   \n",
       "2013-05-08  194.015289  195.841293  193.604202  195.812622  133.693161   \n",
       "2013-08-07  181.261948  181.577438  179.780121  180.267685  123.694908   \n",
       "\n",
       "             Volume  \n",
       "2013-02-06  3790913  \n",
       "2013-05-08  3767378  \n",
       "2013-08-07  4081178  "
      ]
     },
     "execution_count": 14,
     "metadata": {},
     "output_type": "execute_result"
    }
   ],
   "source": [
    "stock_data.loc[dividends.index].head(3)"
   ]
  },
  {
   "cell_type": "code",
   "execution_count": 15,
   "id": "3cdea196",
   "metadata": {},
   "outputs": [],
   "source": [
    "df_close_price = stock_data.loc[dividends.index]['Close']"
   ]
  },
  {
   "cell_type": "code",
   "execution_count": 16,
   "id": "f85331e8",
   "metadata": {},
   "outputs": [
    {
     "data": {
      "text/plain": [
       "2013-02-06    192.179733\n",
       "2013-05-08    195.812622\n",
       "2013-08-07    180.267685\n",
       "Name: Close, dtype: float64"
      ]
     },
     "execution_count": 16,
     "metadata": {},
     "output_type": "execute_result"
    }
   ],
   "source": [
    "df_close_price[:3]"
   ]
  },
  {
   "cell_type": "code",
   "execution_count": 17,
   "id": "dc1ff41a",
   "metadata": {},
   "outputs": [],
   "source": [
    "dividends['close'] = df_close_price"
   ]
  },
  {
   "cell_type": "code",
   "execution_count": 18,
   "id": "6ba01278",
   "metadata": {},
   "outputs": [
    {
     "data": {
      "text/html": [
       "<div>\n",
       "<style scoped>\n",
       "    .dataframe tbody tr th:only-of-type {\n",
       "        vertical-align: middle;\n",
       "    }\n",
       "\n",
       "    .dataframe tbody tr th {\n",
       "        vertical-align: top;\n",
       "    }\n",
       "\n",
       "    .dataframe thead th {\n",
       "        text-align: right;\n",
       "    }\n",
       "</style>\n",
       "<table border=\"1\" class=\"dataframe\">\n",
       "  <thead>\n",
       "    <tr style=\"text-align: right;\">\n",
       "      <th></th>\n",
       "      <th>dividend</th>\n",
       "      <th>ticker</th>\n",
       "      <th>close</th>\n",
       "    </tr>\n",
       "  </thead>\n",
       "  <tbody>\n",
       "    <tr>\n",
       "      <th>2013-02-06</th>\n",
       "      <td>0.812620</td>\n",
       "      <td>IBM</td>\n",
       "      <td>192.179733</td>\n",
       "    </tr>\n",
       "    <tr>\n",
       "      <th>2013-05-08</th>\n",
       "      <td>0.908222</td>\n",
       "      <td>IBM</td>\n",
       "      <td>195.812622</td>\n",
       "    </tr>\n",
       "    <tr>\n",
       "      <th>2013-08-07</th>\n",
       "      <td>0.908222</td>\n",
       "      <td>IBM</td>\n",
       "      <td>180.267685</td>\n",
       "    </tr>\n",
       "  </tbody>\n",
       "</table>\n",
       "</div>"
      ],
      "text/plain": [
       "            dividend ticker       close\n",
       "2013-02-06  0.812620    IBM  192.179733\n",
       "2013-05-08  0.908222    IBM  195.812622\n",
       "2013-08-07  0.908222    IBM  180.267685"
      ]
     },
     "execution_count": 18,
     "metadata": {},
     "output_type": "execute_result"
    }
   ],
   "source": [
    "dividends.head(3)"
   ]
  },
  {
   "cell_type": "code",
   "execution_count": 19,
   "id": "8305885c",
   "metadata": {},
   "outputs": [],
   "source": [
    "dividends = dividends.drop('ticker', axis=1)"
   ]
  },
  {
   "cell_type": "code",
   "execution_count": 20,
   "id": "5145adb5",
   "metadata": {},
   "outputs": [
    {
     "data": {
      "text/html": [
       "<div>\n",
       "<style scoped>\n",
       "    .dataframe tbody tr th:only-of-type {\n",
       "        vertical-align: middle;\n",
       "    }\n",
       "\n",
       "    .dataframe tbody tr th {\n",
       "        vertical-align: top;\n",
       "    }\n",
       "\n",
       "    .dataframe thead th {\n",
       "        text-align: right;\n",
       "    }\n",
       "</style>\n",
       "<table border=\"1\" class=\"dataframe\">\n",
       "  <thead>\n",
       "    <tr style=\"text-align: right;\">\n",
       "      <th></th>\n",
       "      <th>dividend</th>\n",
       "      <th>close</th>\n",
       "    </tr>\n",
       "  </thead>\n",
       "  <tbody>\n",
       "    <tr>\n",
       "      <th>2013-02-06</th>\n",
       "      <td>0.812620</td>\n",
       "      <td>192.179733</td>\n",
       "    </tr>\n",
       "    <tr>\n",
       "      <th>2013-05-08</th>\n",
       "      <td>0.908222</td>\n",
       "      <td>195.812622</td>\n",
       "    </tr>\n",
       "    <tr>\n",
       "      <th>2013-08-07</th>\n",
       "      <td>0.908222</td>\n",
       "      <td>180.267685</td>\n",
       "    </tr>\n",
       "  </tbody>\n",
       "</table>\n",
       "</div>"
      ],
      "text/plain": [
       "            dividend       close\n",
       "2013-02-06  0.812620  192.179733\n",
       "2013-05-08  0.908222  195.812622\n",
       "2013-08-07  0.908222  180.267685"
      ]
     },
     "execution_count": 20,
     "metadata": {},
     "output_type": "execute_result"
    }
   ],
   "source": [
    "dividends.head(3)"
   ]
  },
  {
   "cell_type": "code",
   "execution_count": null,
   "id": "27b0b5dd",
   "metadata": {},
   "outputs": [],
   "source": []
  },
  {
   "cell_type": "code",
   "execution_count": 43,
   "id": "dba39983",
   "metadata": {},
   "outputs": [],
   "source": [
    "div_freq = round(len(dividends.index)/DIV_PERIODS)"
   ]
  },
  {
   "cell_type": "code",
   "execution_count": 22,
   "id": "5f848291",
   "metadata": {},
   "outputs": [],
   "source": [
    "dividends['div yield'] = round(dividends['dividend']*div_freq / dividends['close'] * 100, 2)"
   ]
  },
  {
   "cell_type": "code",
   "execution_count": 23,
   "id": "93ea1e88",
   "metadata": {},
   "outputs": [
    {
     "data": {
      "text/html": [
       "<div>\n",
       "<style scoped>\n",
       "    .dataframe tbody tr th:only-of-type {\n",
       "        vertical-align: middle;\n",
       "    }\n",
       "\n",
       "    .dataframe tbody tr th {\n",
       "        vertical-align: top;\n",
       "    }\n",
       "\n",
       "    .dataframe thead th {\n",
       "        text-align: right;\n",
       "    }\n",
       "</style>\n",
       "<table border=\"1\" class=\"dataframe\">\n",
       "  <thead>\n",
       "    <tr style=\"text-align: right;\">\n",
       "      <th></th>\n",
       "      <th>dividend</th>\n",
       "      <th>close</th>\n",
       "      <th>div yield</th>\n",
       "    </tr>\n",
       "  </thead>\n",
       "  <tbody>\n",
       "    <tr>\n",
       "      <th>2013-02-06</th>\n",
       "      <td>0.812620</td>\n",
       "      <td>192.179733</td>\n",
       "      <td>1.69</td>\n",
       "    </tr>\n",
       "    <tr>\n",
       "      <th>2013-05-08</th>\n",
       "      <td>0.908222</td>\n",
       "      <td>195.812622</td>\n",
       "      <td>1.86</td>\n",
       "    </tr>\n",
       "    <tr>\n",
       "      <th>2013-08-07</th>\n",
       "      <td>0.908222</td>\n",
       "      <td>180.267685</td>\n",
       "      <td>2.02</td>\n",
       "    </tr>\n",
       "  </tbody>\n",
       "</table>\n",
       "</div>"
      ],
      "text/plain": [
       "            dividend       close  div yield\n",
       "2013-02-06  0.812620  192.179733       1.69\n",
       "2013-05-08  0.908222  195.812622       1.86\n",
       "2013-08-07  0.908222  180.267685       2.02"
      ]
     },
     "execution_count": 23,
     "metadata": {},
     "output_type": "execute_result"
    }
   ],
   "source": [
    "dividends.head(3)"
   ]
  },
  {
   "cell_type": "code",
   "execution_count": 24,
   "id": "a8e45c8e",
   "metadata": {},
   "outputs": [
    {
     "data": {
      "text/plain": [
       "<AxesSubplot:>"
      ]
     },
     "execution_count": 24,
     "metadata": {},
     "output_type": "execute_result"
    },
    {
     "data": {
      "image/png": "[encoded data removed]",
      "text/plain": [
       "<Figure size 432x288 with 1 Axes>"
      ]
     },
     "metadata": {
      "needs_background": "light"
     },
     "output_type": "display_data"
    }
   ],
   "source": [
    "dividends['div yield'].plot()"
   ]
  },
  {
   "cell_type": "code",
   "execution_count": 25,
   "id": "ca8afece",
   "metadata": {},
   "outputs": [],
   "source": [
    "div_min = min(dividends['div yield'])\n",
    "div_max = max(dividends['div yield'])"
   ]
  },
  {
   "cell_type": "code",
   "execution_count": 26,
   "id": "d90ba7b7",
   "metadata": {},
   "outputs": [
    {
     "data": {
      "text/plain": [
       "(1.69, 5.64)"
      ]
     },
     "execution_count": 26,
     "metadata": {},
     "output_type": "execute_result"
    }
   ],
   "source": [
    "div_min, div_max"
   ]
  },
  {
   "cell_type": "code",
   "execution_count": 27,
   "id": "26a2767b",
   "metadata": {},
   "outputs": [],
   "source": [
    "current_datetime = datetime.strptime(end_date, \"%Y-%m-%d\")"
   ]
  },
  {
   "cell_type": "code",
   "execution_count": 28,
   "id": "9bb4f643",
   "metadata": {},
   "outputs": [
    {
     "data": {
      "text/plain": [
       "datetime.datetime(2022, 12, 14, 0, 0)"
      ]
     },
     "execution_count": 28,
     "metadata": {},
     "output_type": "execute_result"
    }
   ],
   "source": [
    "current_datetime"
   ]
  },
  {
   "cell_type": "code",
   "execution_count": 29,
   "id": "24707f74",
   "metadata": {},
   "outputs": [],
   "source": [
    "current_price = stock_data.iloc[-1]['Close']"
   ]
  },
  {
   "cell_type": "code",
   "execution_count": 30,
   "id": "1bea3a61",
   "metadata": {},
   "outputs": [
    {
     "data": {
      "text/plain": [
       "150.57000732421875"
      ]
     },
     "execution_count": 30,
     "metadata": {},
     "output_type": "execute_result"
    }
   ],
   "source": [
    "current_price"
   ]
  },
  {
   "cell_type": "code",
   "execution_count": null,
   "id": "47d010b7",
   "metadata": {},
   "outputs": [],
   "source": []
  },
  {
   "cell_type": "code",
   "execution_count": 31,
   "id": "21a98b2a",
   "metadata": {},
   "outputs": [
    {
     "data": {
      "text/plain": [
       "1.65"
      ]
     },
     "execution_count": 31,
     "metadata": {},
     "output_type": "execute_result"
    }
   ],
   "source": [
    "last_dividend = dividends.iloc[-1]['dividend']\n",
    "last_dividend"
   ]
  },
  {
   "cell_type": "code",
   "execution_count": 32,
   "id": "b2f3e6b5",
   "metadata": {},
   "outputs": [
    {
     "data": {
      "text/plain": [
       "4.38"
      ]
     },
     "execution_count": 32,
     "metadata": {},
     "output_type": "execute_result"
    }
   ],
   "source": [
    "current_div_yield = round(last_dividend*4/current_price*100, 2)\n",
    "current_div_yield"
   ]
  },
  {
   "cell_type": "code",
   "execution_count": 33,
   "id": "d0650f54",
   "metadata": {},
   "outputs": [],
   "source": [
    "import matplotlib.pyplot as plt"
   ]
  },
  {
   "cell_type": "code",
   "execution_count": 36,
   "id": "5d18b9dd",
   "metadata": {},
   "outputs": [
    {
     "data": {
      "image/png": "[encoded data removed]",
      "text/plain": [
       "<Figure size 432x288 with 1 Axes>"
      ]
     },
     "metadata": {
      "needs_background": "light"
     },
     "output_type": "display_data"
    }
   ],
   "source": [
    "plt.plot(dividends['div yield'],  color='b', label = 'dividend history')\n",
    "plt.axhline(y=div_min, color='y', linestyle='--', label='min div yield')\n",
    "plt.axhline(y=div_max, color='r', linestyle='--', label='max div yield')\n",
    "plt.axhline(y=current_div_yield, color='g', linestyle='--', label='current div yield')\n",
    "plt.title(f'{TICKER} dividend analysis')\n",
    "plt.xlabel('year')\n",
    "plt.ylabel('dividend yield')\n",
    "plt.legend()\n",
    "plt.show()"
   ]
  },
  {
   "cell_type": "code",
   "execution_count": 39,
   "id": "a6d0e1bb",
   "metadata": {},
   "outputs": [],
   "source": [
    "def get_percentage(input, min, max):\n",
    "    return round((input - min) / (max - min) * 100)\n",
    "\n",
    "def calculate_buysell_score(current_div_yield, div_min, div_max):\n",
    "    buy_score = get_percentage(current_div_yield, div_min, div_max)\n",
    "    sell_score = 100 - buy_score\n",
    "    return buy_score, sell_score"
   ]
  },
  {
   "cell_type": "code",
   "execution_count": 42,
   "id": "73a00e48",
   "metadata": {},
   "outputs": [
    {
     "name": "stdout",
     "output_type": "stream",
     "text": [
      "buy score = 68\n",
      "sell score = 32\n"
     ]
    }
   ],
   "source": [
    "buy_score, sell_score = calculate_buysell_score(current_div_yield, div_min, div_max)\n",
    "print(f'buy score = {buy_score}\\nsell score = {sell_score}')"
   ]
  },
  {
   "cell_type": "code",
   "execution_count": null,
   "id": "dbd602bd",
   "metadata": {},
   "outputs": [],
   "source": []
  },
  {
   "cell_type": "code",
   "execution_count": null,
   "id": "09901ac1",
   "metadata": {},
   "outputs": [],
   "source": []
  },
  {
   "cell_type": "code",
   "execution_count": null,
   "id": "81743c80",
   "metadata": {},
   "outputs": [],
   "source": []
  },
  {
   "cell_type": "code",
   "execution_count": null,
   "id": "e290eca7",
   "metadata": {},
   "outputs": [],
   "source": []
  }
 ],
 "metadata": {
  "kernelspec": {
   "display_name": "Python 3 (ipykernel)",
   "language": "python",
   "name": "python3"
  },
  "language_info": {
   "codemirror_mode": {
    "name": "ipython",
    "version": 3
   },
   "file_extension": ".py",
   "mimetype": "text/x-python",
   "name": "python",
   "nbconvert_exporter": "python",
   "pygments_lexer": "ipython3",
   "version": "3.9.12"
  }
 },
 "nbformat": 4,
 "nbformat_minor": 5
}
