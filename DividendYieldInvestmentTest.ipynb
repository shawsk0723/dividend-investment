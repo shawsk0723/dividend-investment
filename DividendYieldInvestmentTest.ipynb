{
 "cells": [
  {
   "cell_type": "raw",
   "id": "4ab65d5d",
   "metadata": {},
   "source": [
    "%pip install yfinance\n",
    "%pip install yahoo_fin"
   ]
  },
  {
   "cell_type": "raw",
   "id": "f05742ae",
   "metadata": {},
   "source": []
  },
  {
   "cell_type": "code",
   "execution_count": 40,
   "id": "c65b04a5",
   "metadata": {},
   "outputs": [],
   "source": [
    "import yfinance as yf\n",
    "from yahoo_fin import stock_info"
   ]
  },
  {
   "cell_type": "code",
   "execution_count": 41,
   "id": "e9c50db6",
   "metadata": {},
   "outputs": [],
   "source": [
    "from datetime import datetime\n",
    "from dateutil.relativedelta import relativedelta"
   ]
  },
  {
   "cell_type": "code",
   "execution_count": 76,
   "id": "37b2b870",
   "metadata": {},
   "outputs": [],
   "source": [
    "#TICKER = 'IBM'\n",
    "TICKER = 'O'\n",
    "DIV_PERIODS = 7"
   ]
  },
  {
   "cell_type": "code",
   "execution_count": 77,
   "id": "2cd7332a",
   "metadata": {},
   "outputs": [],
   "source": [
    "stock_basic_info = yf.Ticker(TICKER).info"
   ]
  },
  {
   "cell_type": "code",
   "execution_count": 78,
   "id": "8d24e483",
   "metadata": {},
   "outputs": [
    {
     "data": {
      "text/plain": [
       "{'zip': '92130',\n",
       " 'sector': 'Real Estate',\n",
       " 'fullTimeEmployees': 388,\n",
       " 'longBusinessSummary': \"Realty Income, The Monthly Dividend Company, is an S&P 500 company dedicated to providing stockholders with dependable monthly income. The company is structured as a REIT, and its monthly dividends are supported by the cash flow from over 6,500 real estate properties owned under long-term lease agreements with our commercial clients. To date, the company has declared 608 consecutive common stock monthly dividends throughout its 52-year operating history and increased the dividend 109 times since Realty Income's public listing in 1994 (NYSE: O). The company is a member of the S&P 500 Dividend Aristocrats index. Additional information about the company can be obtained from the corporate website at www.realtyincome.com.\",\n",
       " 'city': 'San Diego',\n",
       " 'phone': '858-284-5000',\n",
       " 'state': 'CA',\n",
       " 'country': 'United States',\n",
       " 'companyOfficers': [],\n",
       " 'website': 'https://www.realtyincome.com',\n",
       " 'maxAge': 1,\n",
       " 'address1': '11995 El Camino Real',\n",
       " 'industry': 'REIT—Retail',\n",
       " 'ebitdaMargins': 0.91138,\n",
       " 'profitMargins': 0.20613001,\n",
       " 'grossMargins': 0.9359,\n",
       " 'operatingCashflow': 2285488896,\n",
       " 'revenueGrowth': 0.708,\n",
       " 'operatingMargins': 0.39459,\n",
       " 'ebitda': 2857015040,\n",
       " 'targetLowPrice': 64,\n",
       " 'recommendationKey': 'buy',\n",
       " 'grossProfits': 1947964000,\n",
       " 'freeCashflow': 1463676928,\n",
       " 'targetMedianPrice': 70,\n",
       " 'currentPrice': 64.66,\n",
       " 'earningsGrowth': 0.046,\n",
       " 'currentRatio': 1.464,\n",
       " 'returnOnAssets': 0.02221,\n",
       " 'numberOfAnalystOpinions': 15,\n",
       " 'targetMeanPrice': 69.03,\n",
       " 'debtToEquity': 62.882,\n",
       " 'returnOnEquity': 0.03224,\n",
       " 'targetHighPrice': 74,\n",
       " 'totalCash': 192444992,\n",
       " 'totalDebt': 16892883968,\n",
       " 'totalRevenue': 3134821888,\n",
       " 'totalCashPerShare': 0.307,\n",
       " 'financialCurrency': 'USD',\n",
       " 'revenuePerShare': 5.373,\n",
       " 'quickRatio': 1.23,\n",
       " 'recommendationMean': 2.3,\n",
       " 'exchange': 'NYQ',\n",
       " 'shortName': 'Realty Income Corporation',\n",
       " 'longName': 'Realty Income Corporation',\n",
       " 'exchangeTimezoneName': 'America/New_York',\n",
       " 'exchangeTimezoneShortName': 'EST',\n",
       " 'isEsgPopulated': False,\n",
       " 'gmtOffSetMilliseconds': '-18000000',\n",
       " 'quoteType': 'EQUITY',\n",
       " 'symbol': 'O',\n",
       " 'messageBoardId': 'finmb_339305',\n",
       " 'market': 'us_market',\n",
       " 'annualHoldingsTurnover': None,\n",
       " 'enterpriseToRevenue': 18.364,\n",
       " 'beta3Year': None,\n",
       " 'enterpriseToEbitda': 20.15,\n",
       " '52WeekChange': -0.040047288,\n",
       " 'morningStarRiskRating': None,\n",
       " 'forwardEps': 1.37,\n",
       " 'revenueQuarterlyGrowth': None,\n",
       " 'sharesOutstanding': 627153984,\n",
       " 'fundInceptionDate': None,\n",
       " 'annualReportExpenseRatio': None,\n",
       " 'totalAssets': None,\n",
       " 'bookValue': 42.633,\n",
       " 'sharesShort': 19904078,\n",
       " 'sharesPercentSharesOut': 0.0317,\n",
       " 'fundFamily': None,\n",
       " 'lastFiscalYearEnd': 1640908800,\n",
       " 'heldPercentInstitutions': 0.82984,\n",
       " 'netIncomeToCommon': 646184000,\n",
       " 'trailingEps': 0.99,\n",
       " 'lastDividendValue': 0.248,\n",
       " 'SandP52WeekChange': -0.13901603,\n",
       " 'priceToBook': 1.5166656,\n",
       " 'heldPercentInsiders': 0.00119,\n",
       " 'nextFiscalYearEnd': 1703980800,\n",
       " 'yield': None,\n",
       " 'mostRecentQuarter': 1664496000,\n",
       " 'shortRatio': 5.01,\n",
       " 'sharesShortPreviousMonthDate': 1667174400,\n",
       " 'floatShares': 626137872,\n",
       " 'beta': 0.783045,\n",
       " 'enterpriseValue': 57567490048,\n",
       " 'priceHint': 2,\n",
       " 'threeYearAverageReturn': None,\n",
       " 'lastSplitDate': 1636934400,\n",
       " 'lastSplitFactor': '1032:1000',\n",
       " 'legalType': None,\n",
       " 'lastDividendDate': 1669766400,\n",
       " 'morningStarOverallRating': None,\n",
       " 'earningsQuarterlyGrowth': 0.626,\n",
       " 'priceToSalesTrailing12Months': 12.935912,\n",
       " 'dateShortInterest': 1669766400,\n",
       " 'pegRatio': 3.36,\n",
       " 'ytdReturn': None,\n",
       " 'forwardPE': 47.197083,\n",
       " 'lastCapGain': None,\n",
       " 'shortPercentOfFloat': 0.037100002,\n",
       " 'sharesShortPriorMonth': 28496521,\n",
       " 'impliedSharesOutstanding': 0,\n",
       " 'category': None,\n",
       " 'fiveYearAverageReturn': None,\n",
       " 'previousClose': 64.96,\n",
       " 'regularMarketOpen': 65.06,\n",
       " 'twoHundredDayAverage': 66.75675,\n",
       " 'trailingAnnualDividendYield': 0.045458745,\n",
       " 'payoutRatio': 2.9828,\n",
       " 'volume24Hr': None,\n",
       " 'regularMarketDayHigh': 65.64,\n",
       " 'navPrice': None,\n",
       " 'averageDailyVolume10Day': 4764830,\n",
       " 'regularMarketPreviousClose': 64.96,\n",
       " 'fiftyDayAverage': 61.729,\n",
       " 'trailingAnnualDividendRate': 2.953,\n",
       " 'open': 65.06,\n",
       " 'toCurrency': None,\n",
       " 'averageVolume10days': 4764830,\n",
       " 'expireDate': None,\n",
       " 'algorithm': None,\n",
       " 'dividendRate': 2.98,\n",
       " 'exDividendDate': 1669766400,\n",
       " 'circulatingSupply': None,\n",
       " 'startDate': None,\n",
       " 'regularMarketDayLow': 64.4016,\n",
       " 'currency': 'USD',\n",
       " 'trailingPE': 65.31313,\n",
       " 'regularMarketVolume': 3964209,\n",
       " 'lastMarket': None,\n",
       " 'maxSupply': None,\n",
       " 'openInterest': None,\n",
       " 'marketCap': 40551780352,\n",
       " 'volumeAllCurrencies': None,\n",
       " 'strikePrice': None,\n",
       " 'averageVolume': 4383996,\n",
       " 'dayLow': 64.4016,\n",
       " 'ask': 0,\n",
       " 'askSize': 800,\n",
       " 'volume': 3964209,\n",
       " 'fiftyTwoWeekHigh': 75.4,\n",
       " 'fromCurrency': None,\n",
       " 'fiveYearAvgDividendYield': 4.31,\n",
       " 'fiftyTwoWeekLow': 55.5,\n",
       " 'bid': 0,\n",
       " 'tradeable': False,\n",
       " 'dividendYield': 0.0458,\n",
       " 'bidSize': 800,\n",
       " 'dayHigh': 65.64,\n",
       " 'coinMarketCapLink': None,\n",
       " 'regularMarketPrice': 64.66,\n",
       " 'preMarketPrice': None,\n",
       " 'logo_url': 'https://logo.clearbit.com/realtyincome.com',\n",
       " 'trailingPegRatio': 4.3829}"
      ]
     },
     "execution_count": 78,
     "metadata": {},
     "output_type": "execute_result"
    }
   ],
   "source": [
    "stock_basic_info"
   ]
  },
  {
   "cell_type": "markdown",
   "id": "c6911fac",
   "metadata": {},
   "source": [
    "과거 배당금 정보 가져 오기"
   ]
  },
  {
   "cell_type": "code",
   "execution_count": 79,
   "id": "a98b3b01",
   "metadata": {},
   "outputs": [
    {
     "name": "stdout",
     "output_type": "stream",
     "text": [
      "start date:  2022-12-15\n",
      "end date:  2015-12-15\n"
     ]
    }
   ],
   "source": [
    "end_date = datetime.now().strftime(\"%Y-%m-%d\")\n",
    "print(\"start date: \" , end_date)\n",
    "start_date = (datetime.now() - relativedelta(years=DIV_PERIODS)).strftime(\"%Y-%m-%d\")\n",
    "print(\"end date: \", start_date)"
   ]
  },
  {
   "cell_type": "code",
   "execution_count": 80,
   "id": "212d01ca",
   "metadata": {},
   "outputs": [],
   "source": [
    "dividends = stock_info.get_dividends(TICKER, start_date=start_date, end_date=end_date)"
   ]
  },
  {
   "cell_type": "code",
   "execution_count": 81,
   "id": "fbe318c0",
   "metadata": {},
   "outputs": [
    {
     "data": {
      "text/html": [
       "<div>\n",
       "<style scoped>\n",
       "    .dataframe tbody tr th:only-of-type {\n",
       "        vertical-align: middle;\n",
       "    }\n",
       "\n",
       "    .dataframe tbody tr th {\n",
       "        vertical-align: top;\n",
       "    }\n",
       "\n",
       "    .dataframe thead th {\n",
       "        text-align: right;\n",
       "    }\n",
       "</style>\n",
       "<table border=\"1\" class=\"dataframe\">\n",
       "  <thead>\n",
       "    <tr style=\"text-align: right;\">\n",
       "      <th></th>\n",
       "      <th>dividend</th>\n",
       "      <th>ticker</th>\n",
       "    </tr>\n",
       "  </thead>\n",
       "  <tbody>\n",
       "    <tr>\n",
       "      <th>2015-12-30</th>\n",
       "      <td>0.185078</td>\n",
       "      <td>O</td>\n",
       "    </tr>\n",
       "    <tr>\n",
       "      <th>2016-01-28</th>\n",
       "      <td>0.192829</td>\n",
       "      <td>O</td>\n",
       "    </tr>\n",
       "    <tr>\n",
       "      <th>2016-02-26</th>\n",
       "      <td>0.192829</td>\n",
       "      <td>O</td>\n",
       "    </tr>\n",
       "  </tbody>\n",
       "</table>\n",
       "</div>"
      ],
      "text/plain": [
       "            dividend ticker\n",
       "2015-12-30  0.185078      O\n",
       "2016-01-28  0.192829      O\n",
       "2016-02-26  0.192829      O"
      ]
     },
     "execution_count": 81,
     "metadata": {},
     "output_type": "execute_result"
    }
   ],
   "source": [
    "dividends.head(3)"
   ]
  },
  {
   "cell_type": "code",
   "execution_count": 82,
   "id": "93595cdd",
   "metadata": {},
   "outputs": [
    {
     "data": {
      "text/html": [
       "<div>\n",
       "<style scoped>\n",
       "    .dataframe tbody tr th:only-of-type {\n",
       "        vertical-align: middle;\n",
       "    }\n",
       "\n",
       "    .dataframe tbody tr th {\n",
       "        vertical-align: top;\n",
       "    }\n",
       "\n",
       "    .dataframe thead th {\n",
       "        text-align: right;\n",
       "    }\n",
       "</style>\n",
       "<table border=\"1\" class=\"dataframe\">\n",
       "  <thead>\n",
       "    <tr style=\"text-align: right;\">\n",
       "      <th></th>\n",
       "      <th>dividend</th>\n",
       "      <th>ticker</th>\n",
       "    </tr>\n",
       "  </thead>\n",
       "  <tbody>\n",
       "    <tr>\n",
       "      <th>2022-09-30</th>\n",
       "      <td>0.248</td>\n",
       "      <td>O</td>\n",
       "    </tr>\n",
       "    <tr>\n",
       "      <th>2022-10-31</th>\n",
       "      <td>0.248</td>\n",
       "      <td>O</td>\n",
       "    </tr>\n",
       "    <tr>\n",
       "      <th>2022-11-30</th>\n",
       "      <td>0.248</td>\n",
       "      <td>O</td>\n",
       "    </tr>\n",
       "  </tbody>\n",
       "</table>\n",
       "</div>"
      ],
      "text/plain": [
       "            dividend ticker\n",
       "2022-09-30     0.248      O\n",
       "2022-10-31     0.248      O\n",
       "2022-11-30     0.248      O"
      ]
     },
     "execution_count": 82,
     "metadata": {},
     "output_type": "execute_result"
    }
   ],
   "source": [
    "dividends.tail(3)"
   ]
  },
  {
   "cell_type": "markdown",
   "id": "99685149",
   "metadata": {},
   "source": [
    "10년간 주가 정보 가져오기"
   ]
  },
  {
   "cell_type": "code",
   "execution_count": 83,
   "id": "9e4c1b68",
   "metadata": {},
   "outputs": [
    {
     "name": "stdout",
     "output_type": "stream",
     "text": [
      "[*********************100%***********************]  1 of 1 completed\n"
     ]
    }
   ],
   "source": [
    "# Get the data\n",
    "stock_data = yf.download(TICKER, start_date, end_date)"
   ]
  },
  {
   "cell_type": "code",
   "execution_count": 84,
   "id": "73703d43",
   "metadata": {},
   "outputs": [
    {
     "data": {
      "text/html": [
       "<div>\n",
       "<style scoped>\n",
       "    .dataframe tbody tr th:only-of-type {\n",
       "        vertical-align: middle;\n",
       "    }\n",
       "\n",
       "    .dataframe tbody tr th {\n",
       "        vertical-align: top;\n",
       "    }\n",
       "\n",
       "    .dataframe thead th {\n",
       "        text-align: right;\n",
       "    }\n",
       "</style>\n",
       "<table border=\"1\" class=\"dataframe\">\n",
       "  <thead>\n",
       "    <tr style=\"text-align: right;\">\n",
       "      <th></th>\n",
       "      <th>Open</th>\n",
       "      <th>High</th>\n",
       "      <th>Low</th>\n",
       "      <th>Close</th>\n",
       "      <th>Adj Close</th>\n",
       "      <th>Volume</th>\n",
       "    </tr>\n",
       "    <tr>\n",
       "      <th>Date</th>\n",
       "      <th></th>\n",
       "      <th></th>\n",
       "      <th></th>\n",
       "      <th></th>\n",
       "      <th></th>\n",
       "      <th></th>\n",
       "    </tr>\n",
       "  </thead>\n",
       "  <tbody>\n",
       "    <tr>\n",
       "      <th>2015-12-15</th>\n",
       "      <td>48.236435</td>\n",
       "      <td>48.817829</td>\n",
       "      <td>48.091084</td>\n",
       "      <td>48.391472</td>\n",
       "      <td>35.815502</td>\n",
       "      <td>2284435</td>\n",
       "    </tr>\n",
       "    <tr>\n",
       "      <th>2015-12-16</th>\n",
       "      <td>48.643410</td>\n",
       "      <td>49.670544</td>\n",
       "      <td>48.546513</td>\n",
       "      <td>49.641472</td>\n",
       "      <td>36.740650</td>\n",
       "      <td>2383404</td>\n",
       "    </tr>\n",
       "    <tr>\n",
       "      <th>2015-12-17</th>\n",
       "      <td>49.622093</td>\n",
       "      <td>49.689922</td>\n",
       "      <td>49.273254</td>\n",
       "      <td>49.418606</td>\n",
       "      <td>36.575687</td>\n",
       "      <td>2528606</td>\n",
       "    </tr>\n",
       "  </tbody>\n",
       "</table>\n",
       "</div>"
      ],
      "text/plain": [
       "                 Open       High        Low      Close  Adj Close   Volume\n",
       "Date                                                                      \n",
       "2015-12-15  48.236435  48.817829  48.091084  48.391472  35.815502  2284435\n",
       "2015-12-16  48.643410  49.670544  48.546513  49.641472  36.740650  2383404\n",
       "2015-12-17  49.622093  49.689922  49.273254  49.418606  36.575687  2528606"
      ]
     },
     "execution_count": 84,
     "metadata": {},
     "output_type": "execute_result"
    }
   ],
   "source": [
    "stock_data.head(3)"
   ]
  },
  {
   "cell_type": "code",
   "execution_count": 85,
   "id": "686e9c56",
   "metadata": {},
   "outputs": [
    {
     "data": {
      "text/html": [
       "<div>\n",
       "<style scoped>\n",
       "    .dataframe tbody tr th:only-of-type {\n",
       "        vertical-align: middle;\n",
       "    }\n",
       "\n",
       "    .dataframe tbody tr th {\n",
       "        vertical-align: top;\n",
       "    }\n",
       "\n",
       "    .dataframe thead th {\n",
       "        text-align: right;\n",
       "    }\n",
       "</style>\n",
       "<table border=\"1\" class=\"dataframe\">\n",
       "  <thead>\n",
       "    <tr style=\"text-align: right;\">\n",
       "      <th></th>\n",
       "      <th>Open</th>\n",
       "      <th>High</th>\n",
       "      <th>Low</th>\n",
       "      <th>Close</th>\n",
       "      <th>Adj Close</th>\n",
       "      <th>Volume</th>\n",
       "    </tr>\n",
       "  </thead>\n",
       "  <tbody>\n",
       "    <tr>\n",
       "      <th>2015-12-30</th>\n",
       "      <td>50.465115</td>\n",
       "      <td>50.784885</td>\n",
       "      <td>50.242249</td>\n",
       "      <td>50.310078</td>\n",
       "      <td>37.372284</td>\n",
       "      <td>1331693</td>\n",
       "    </tr>\n",
       "    <tr>\n",
       "      <th>2016-01-28</th>\n",
       "      <td>53.149223</td>\n",
       "      <td>53.798450</td>\n",
       "      <td>52.926357</td>\n",
       "      <td>53.168606</td>\n",
       "      <td>39.638931</td>\n",
       "      <td>3436457</td>\n",
       "    </tr>\n",
       "    <tr>\n",
       "      <th>2016-02-26</th>\n",
       "      <td>58.003876</td>\n",
       "      <td>58.003876</td>\n",
       "      <td>56.695736</td>\n",
       "      <td>56.812016</td>\n",
       "      <td>42.495884</td>\n",
       "      <td>2571538</td>\n",
       "    </tr>\n",
       "  </tbody>\n",
       "</table>\n",
       "</div>"
      ],
      "text/plain": [
       "                 Open       High        Low      Close  Adj Close   Volume\n",
       "2015-12-30  50.465115  50.784885  50.242249  50.310078  37.372284  1331693\n",
       "2016-01-28  53.149223  53.798450  52.926357  53.168606  39.638931  3436457\n",
       "2016-02-26  58.003876  58.003876  56.695736  56.812016  42.495884  2571538"
      ]
     },
     "execution_count": 85,
     "metadata": {},
     "output_type": "execute_result"
    }
   ],
   "source": [
    "stock_data.loc[dividends.index].head(3)"
   ]
  },
  {
   "cell_type": "code",
   "execution_count": 86,
   "id": "3cdea196",
   "metadata": {},
   "outputs": [],
   "source": [
    "df_close_price = stock_data.loc[dividends.index]['Close']"
   ]
  },
  {
   "cell_type": "code",
   "execution_count": 87,
   "id": "f85331e8",
   "metadata": {},
   "outputs": [
    {
     "data": {
      "text/plain": [
       "2015-12-30    50.310078\n",
       "2016-01-28    53.168606\n",
       "2016-02-26    56.812016\n",
       "Name: Close, dtype: float64"
      ]
     },
     "execution_count": 87,
     "metadata": {},
     "output_type": "execute_result"
    }
   ],
   "source": [
    "df_close_price[:3]"
   ]
  },
  {
   "cell_type": "code",
   "execution_count": 88,
   "id": "dc1ff41a",
   "metadata": {},
   "outputs": [],
   "source": [
    "dividends['close'] = df_close_price"
   ]
  },
  {
   "cell_type": "code",
   "execution_count": 89,
   "id": "6ba01278",
   "metadata": {},
   "outputs": [
    {
     "data": {
      "text/html": [
       "<div>\n",
       "<style scoped>\n",
       "    .dataframe tbody tr th:only-of-type {\n",
       "        vertical-align: middle;\n",
       "    }\n",
       "\n",
       "    .dataframe tbody tr th {\n",
       "        vertical-align: top;\n",
       "    }\n",
       "\n",
       "    .dataframe thead th {\n",
       "        text-align: right;\n",
       "    }\n",
       "</style>\n",
       "<table border=\"1\" class=\"dataframe\">\n",
       "  <thead>\n",
       "    <tr style=\"text-align: right;\">\n",
       "      <th></th>\n",
       "      <th>dividend</th>\n",
       "      <th>ticker</th>\n",
       "      <th>close</th>\n",
       "    </tr>\n",
       "  </thead>\n",
       "  <tbody>\n",
       "    <tr>\n",
       "      <th>2015-12-30</th>\n",
       "      <td>0.185078</td>\n",
       "      <td>O</td>\n",
       "      <td>50.310078</td>\n",
       "    </tr>\n",
       "    <tr>\n",
       "      <th>2016-01-28</th>\n",
       "      <td>0.192829</td>\n",
       "      <td>O</td>\n",
       "      <td>53.168606</td>\n",
       "    </tr>\n",
       "    <tr>\n",
       "      <th>2016-02-26</th>\n",
       "      <td>0.192829</td>\n",
       "      <td>O</td>\n",
       "      <td>56.812016</td>\n",
       "    </tr>\n",
       "  </tbody>\n",
       "</table>\n",
       "</div>"
      ],
      "text/plain": [
       "            dividend ticker      close\n",
       "2015-12-30  0.185078      O  50.310078\n",
       "2016-01-28  0.192829      O  53.168606\n",
       "2016-02-26  0.192829      O  56.812016"
      ]
     },
     "execution_count": 89,
     "metadata": {},
     "output_type": "execute_result"
    }
   ],
   "source": [
    "dividends.head(3)"
   ]
  },
  {
   "cell_type": "code",
   "execution_count": 90,
   "id": "8305885c",
   "metadata": {},
   "outputs": [],
   "source": [
    "dividends = dividends.drop('ticker', axis=1)"
   ]
  },
  {
   "cell_type": "code",
   "execution_count": 91,
   "id": "5145adb5",
   "metadata": {},
   "outputs": [
    {
     "data": {
      "text/html": [
       "<div>\n",
       "<style scoped>\n",
       "    .dataframe tbody tr th:only-of-type {\n",
       "        vertical-align: middle;\n",
       "    }\n",
       "\n",
       "    .dataframe tbody tr th {\n",
       "        vertical-align: top;\n",
       "    }\n",
       "\n",
       "    .dataframe thead th {\n",
       "        text-align: right;\n",
       "    }\n",
       "</style>\n",
       "<table border=\"1\" class=\"dataframe\">\n",
       "  <thead>\n",
       "    <tr style=\"text-align: right;\">\n",
       "      <th></th>\n",
       "      <th>dividend</th>\n",
       "      <th>close</th>\n",
       "    </tr>\n",
       "  </thead>\n",
       "  <tbody>\n",
       "    <tr>\n",
       "      <th>2015-12-30</th>\n",
       "      <td>0.185078</td>\n",
       "      <td>50.310078</td>\n",
       "    </tr>\n",
       "    <tr>\n",
       "      <th>2016-01-28</th>\n",
       "      <td>0.192829</td>\n",
       "      <td>53.168606</td>\n",
       "    </tr>\n",
       "    <tr>\n",
       "      <th>2016-02-26</th>\n",
       "      <td>0.192829</td>\n",
       "      <td>56.812016</td>\n",
       "    </tr>\n",
       "  </tbody>\n",
       "</table>\n",
       "</div>"
      ],
      "text/plain": [
       "            dividend      close\n",
       "2015-12-30  0.185078  50.310078\n",
       "2016-01-28  0.192829  53.168606\n",
       "2016-02-26  0.192829  56.812016"
      ]
     },
     "execution_count": 91,
     "metadata": {},
     "output_type": "execute_result"
    }
   ],
   "source": [
    "dividends.head(3)"
   ]
  },
  {
   "cell_type": "code",
   "execution_count": null,
   "id": "27b0b5dd",
   "metadata": {},
   "outputs": [],
   "source": []
  },
  {
   "cell_type": "code",
   "execution_count": 92,
   "id": "dba39983",
   "metadata": {},
   "outputs": [],
   "source": [
    "div_freq = round(len(dividends.index)/DIV_PERIODS)"
   ]
  },
  {
   "cell_type": "code",
   "execution_count": 95,
   "id": "44a3e86f",
   "metadata": {},
   "outputs": [
    {
     "data": {
      "text/plain": [
       "12"
      ]
     },
     "execution_count": 95,
     "metadata": {},
     "output_type": "execute_result"
    }
   ],
   "source": [
    "div_freq"
   ]
  },
  {
   "cell_type": "code",
   "execution_count": 96,
   "id": "5f848291",
   "metadata": {},
   "outputs": [],
   "source": [
    "dividends['div yield'] = round(dividends['dividend']*div_freq / dividends['close'] * 100, 2)"
   ]
  },
  {
   "cell_type": "code",
   "execution_count": 97,
   "id": "93ea1e88",
   "metadata": {},
   "outputs": [
    {
     "data": {
      "text/html": [
       "<div>\n",
       "<style scoped>\n",
       "    .dataframe tbody tr th:only-of-type {\n",
       "        vertical-align: middle;\n",
       "    }\n",
       "\n",
       "    .dataframe tbody tr th {\n",
       "        vertical-align: top;\n",
       "    }\n",
       "\n",
       "    .dataframe thead th {\n",
       "        text-align: right;\n",
       "    }\n",
       "</style>\n",
       "<table border=\"1\" class=\"dataframe\">\n",
       "  <thead>\n",
       "    <tr style=\"text-align: right;\">\n",
       "      <th></th>\n",
       "      <th>dividend</th>\n",
       "      <th>close</th>\n",
       "      <th>div yield</th>\n",
       "    </tr>\n",
       "  </thead>\n",
       "  <tbody>\n",
       "    <tr>\n",
       "      <th>2015-12-30</th>\n",
       "      <td>0.185078</td>\n",
       "      <td>50.310078</td>\n",
       "      <td>4.41</td>\n",
       "    </tr>\n",
       "    <tr>\n",
       "      <th>2016-01-28</th>\n",
       "      <td>0.192829</td>\n",
       "      <td>53.168606</td>\n",
       "      <td>4.35</td>\n",
       "    </tr>\n",
       "    <tr>\n",
       "      <th>2016-02-26</th>\n",
       "      <td>0.192829</td>\n",
       "      <td>56.812016</td>\n",
       "      <td>4.07</td>\n",
       "    </tr>\n",
       "  </tbody>\n",
       "</table>\n",
       "</div>"
      ],
      "text/plain": [
       "            dividend      close  div yield\n",
       "2015-12-30  0.185078  50.310078       4.41\n",
       "2016-01-28  0.192829  53.168606       4.35\n",
       "2016-02-26  0.192829  56.812016       4.07"
      ]
     },
     "execution_count": 97,
     "metadata": {},
     "output_type": "execute_result"
    }
   ],
   "source": [
    "dividends.head(3)"
   ]
  },
  {
   "cell_type": "code",
   "execution_count": 98,
   "id": "a8e45c8e",
   "metadata": {},
   "outputs": [
    {
     "data": {
      "text/plain": [
       "<AxesSubplot:>"
      ]
     },
     "execution_count": 98,
     "metadata": {},
     "output_type": "execute_result"
    },
    {
     "data": {
      "image/png": "[encoded data removed]",
      "text/plain": [
       "<Figure size 432x288 with 1 Axes>"
      ]
     },
     "metadata": {
      "needs_background": "light"
     },
     "output_type": "display_data"
    }
   ],
   "source": [
    "dividends['div yield'].plot()"
   ]
  },
  {
   "cell_type": "code",
   "execution_count": 99,
   "id": "ca8afece",
   "metadata": {},
   "outputs": [],
   "source": [
    "div_min = min(dividends['div yield'])\n",
    "div_max = max(dividends['div yield'])"
   ]
  },
  {
   "cell_type": "code",
   "execution_count": 100,
   "id": "d90ba7b7",
   "metadata": {},
   "outputs": [
    {
     "data": {
      "text/plain": [
       "(3.33, 5.61)"
      ]
     },
     "execution_count": 100,
     "metadata": {},
     "output_type": "execute_result"
    }
   ],
   "source": [
    "div_min, div_max"
   ]
  },
  {
   "cell_type": "code",
   "execution_count": 101,
   "id": "7fb1ff59",
   "metadata": {},
   "outputs": [
    {
     "data": {
      "text/plain": [
       "89.36936936936938"
      ]
     },
     "execution_count": 101,
     "metadata": {},
     "output_type": "execute_result"
    }
   ],
   "source": [
    "buy_price = dividends['dividend'][-1] * div_freq * 100 / div_min\n",
    "buy_price"
   ]
  },
  {
   "cell_type": "code",
   "execution_count": 102,
   "id": "a68c445e",
   "metadata": {},
   "outputs": [
    {
     "data": {
      "text/plain": [
       "53.04812834224599"
      ]
     },
     "execution_count": 102,
     "metadata": {},
     "output_type": "execute_result"
    }
   ],
   "source": [
    "sell_price = dividends['dividend'][-1] * div_freq * 100 / div_max\n",
    "sell_price"
   ]
  },
  {
   "cell_type": "code",
   "execution_count": 103,
   "id": "26a2767b",
   "metadata": {},
   "outputs": [],
   "source": [
    "current_datetime = datetime.strptime(end_date, \"%Y-%m-%d\")"
   ]
  },
  {
   "cell_type": "code",
   "execution_count": 104,
   "id": "9bb4f643",
   "metadata": {},
   "outputs": [
    {
     "data": {
      "text/plain": [
       "datetime.datetime(2022, 12, 15, 0, 0)"
      ]
     },
     "execution_count": 104,
     "metadata": {},
     "output_type": "execute_result"
    }
   ],
   "source": [
    "current_datetime"
   ]
  },
  {
   "cell_type": "code",
   "execution_count": 105,
   "id": "24707f74",
   "metadata": {},
   "outputs": [],
   "source": [
    "current_price = stock_data.iloc[-1]['Close']"
   ]
  },
  {
   "cell_type": "code",
   "execution_count": 106,
   "id": "1bea3a61",
   "metadata": {},
   "outputs": [
    {
     "data": {
      "text/plain": [
       "64.66000366210938"
      ]
     },
     "execution_count": 106,
     "metadata": {},
     "output_type": "execute_result"
    }
   ],
   "source": [
    "current_price"
   ]
  },
  {
   "cell_type": "code",
   "execution_count": null,
   "id": "47d010b7",
   "metadata": {},
   "outputs": [],
   "source": []
  },
  {
   "cell_type": "code",
   "execution_count": 107,
   "id": "21a98b2a",
   "metadata": {},
   "outputs": [
    {
     "data": {
      "text/plain": [
       "0.248"
      ]
     },
     "execution_count": 107,
     "metadata": {},
     "output_type": "execute_result"
    }
   ],
   "source": [
    "last_dividend = dividends.iloc[-1]['dividend']\n",
    "last_dividend"
   ]
  },
  {
   "cell_type": "code",
   "execution_count": 115,
   "id": "b2f3e6b5",
   "metadata": {},
   "outputs": [
    {
     "data": {
      "text/plain": [
       "4.6"
      ]
     },
     "execution_count": 115,
     "metadata": {},
     "output_type": "execute_result"
    }
   ],
   "source": [
    "current_div_yield = round(last_dividend*div_freq/current_price*100, 2)\n",
    "current_div_yield"
   ]
  },
  {
   "cell_type": "code",
   "execution_count": 116,
   "id": "d0650f54",
   "metadata": {},
   "outputs": [],
   "source": [
    "import matplotlib.pyplot as plt"
   ]
  },
  {
   "cell_type": "code",
   "execution_count": 117,
   "id": "5d18b9dd",
   "metadata": {},
   "outputs": [
    {
     "data": {
      "image/png": "[encoded data removed]",
      "text/plain": [
       "<Figure size 432x288 with 1 Axes>"
      ]
     },
     "metadata": {
      "needs_background": "light"
     },
     "output_type": "display_data"
    }
   ],
   "source": [
    "plt.plot(dividends['div yield'],  color='b', label = 'dividend history')\n",
    "plt.axhline(y=div_min, color='y', linestyle='--', label='min div yield')\n",
    "plt.axhline(y=div_max, color='r', linestyle='--', label='max div yield')\n",
    "plt.axhline(y=current_div_yield, color='g', linestyle='--', label='current div yield')\n",
    "plt.title(f'{TICKER} dividend analysis')\n",
    "plt.xlabel('year')\n",
    "plt.ylabel('dividend yield')\n",
    "plt.legend()\n",
    "plt.show()"
   ]
  },
  {
   "cell_type": "code",
   "execution_count": 120,
   "id": "a6d0e1bb",
   "metadata": {},
   "outputs": [],
   "source": [
    "def get_percentage(input, min, max):\n",
    "    return round((input - min) / (max - min) * 100)\n",
    "\n",
    "def calculate_buysell_score(current_div_yield, div_min, div_max):\n",
    "    buy_score = get_percentage(current_div_yield, div_min, div_max)\n",
    "    sell_score = 100 - buy_score\n",
    "    return buy_score, sell_score"
   ]
  },
  {
   "cell_type": "code",
   "execution_count": 121,
   "id": "73a00e48",
   "metadata": {},
   "outputs": [
    {
     "name": "stdout",
     "output_type": "stream",
     "text": [
      "buy score = 56\n",
      "sell score = 44\n"
     ]
    }
   ],
   "source": [
    "buy_score, sell_score = calculate_buysell_score(current_div_yield, div_min, div_max)\n",
    "print(f'buy score = {buy_score}\\nsell score = {sell_score}')"
   ]
  },
  {
   "cell_type": "code",
   "execution_count": null,
   "id": "dbd602bd",
   "metadata": {},
   "outputs": [],
   "source": [
    "t"
   ]
  },
  {
   "cell_type": "code",
   "execution_count": null,
   "id": "09901ac1",
   "metadata": {},
   "outputs": [],
   "source": []
  },
  {
   "cell_type": "code",
   "execution_count": null,
   "id": "81743c80",
   "metadata": {},
   "outputs": [],
   "source": []
  },
  {
   "cell_type": "code",
   "execution_count": null,
   "id": "e290eca7",
   "metadata": {},
   "outputs": [],
   "source": []
  }
 ],
 "metadata": {
  "kernelspec": {
   "display_name": "Python 3 (ipykernel)",
   "language": "python",
   "name": "python3"
  },
  "language_info": {
   "codemirror_mode": {
    "name": "ipython",
    "version": 3
   },
   "file_extension": ".py",
   "mimetype": "text/x-python",
   "name": "python",
   "nbconvert_exporter": "python",
   "pygments_lexer": "ipython3",
   "version": "3.9.12"
  }
 },
 "nbformat": 4,
 "nbformat_minor": 5
}
