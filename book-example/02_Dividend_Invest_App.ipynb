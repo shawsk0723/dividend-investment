{
 "cells": [
  {
   "cell_type": "code",
   "execution_count": null,
   "id": "bd527b04",
   "metadata": {},
   "outputs": [],
   "source": [
    "%pip install openpyxl"
   ]
  },
  {
   "cell_type": "code",
   "execution_count": 1,
   "id": "baf4de9a",
   "metadata": {},
   "outputs": [],
   "source": [
    "import pandas as pd\n",
    "import yfinance as yf\n",
    "from yahoo_fin import stock_info\n",
    "from datetime import datetime\n",
    "from dateutil.relativedelta import relativedelta\n",
    "import matplotlib.pyplot as plt\n",
    "import time"
   ]
  },
  {
   "cell_type": "code",
   "execution_count": 2,
   "id": "345bcadf",
   "metadata": {},
   "outputs": [],
   "source": [
    "import warnings\n",
    "warnings.filterwarnings('ignore')"
   ]
  },
  {
   "cell_type": "code",
   "execution_count": 3,
   "id": "dbc74b20",
   "metadata": {},
   "outputs": [],
   "source": [
    "def get_percentage(input, min, max):\n",
    "    return round((input - min) / (max - min) * 100)\n",
    "\n",
    "def calculate_buy_score(current_div_yield, div_min, div_max):\n",
    "    buy_score = get_percentage(current_div_yield, div_min, div_max)\n",
    "    return buy_score"
   ]
  },
  {
   "cell_type": "code",
   "execution_count": 4,
   "id": "e2734634",
   "metadata": {},
   "outputs": [],
   "source": [
    "def getBuyScore(ticker, periods=7):\n",
    "    try:\n",
    "        print(f'ticker = {ticker}')\n",
    "        stock_basic_info = yf.Ticker(ticker).info\n",
    "        end_date = datetime.now().strftime(\"%Y-%m-%d\")\n",
    "        start_date = (datetime.now() - relativedelta(years=periods)).strftime(\"%Y-%m-%d\")\n",
    "        dividends = stock_info.get_dividends(ticker, start_date=start_date, end_date=end_date)\n",
    "        result = dividends.drop('ticker', axis=1)\n",
    "        stock_data = yf.download(ticker, start_date, end_date)\n",
    "        df_close_price = stock_data.loc[dividends.index]['Close']\n",
    "        result['close'] = df_close_price\n",
    "        div_freq = round(len(result.index)/periods)\n",
    "        result['div yield'] = round(result['dividend']*div_freq / result['close'] * 100, 2)\n",
    "        div_min = min(result['div yield'])\n",
    "        div_max = max(result['div yield'])\n",
    "        buy_price = result['dividend'][-1] * div_freq * 100 / div_min\n",
    "        sell_price = result['dividend'][-1] * div_freq * 100 / div_max\n",
    "        current_datetime = datetime.strptime(end_date, \"%Y-%m-%d\")\n",
    "        current_price = stock_data.iloc[-1]['Close']\n",
    "        last_dividend = result.iloc[-1]['dividend']\n",
    "        current_dividend = last_dividend * div_freq\n",
    "        current_div_yield = round(current_dividend/current_price*100, 2)\n",
    "        buy_score = calculate_buy_score(current_div_yield, div_min, div_max)\n",
    "        return current_dividend, current_div_yield, buy_score\n",
    "    except Exception as e:\n",
    "        raise(e)"
   ]
  },
  {
   "cell_type": "code",
   "execution_count": 5,
   "id": "df2dbc33",
   "metadata": {},
   "outputs": [
    {
     "name": "stdout",
     "output_type": "stream",
     "text": [
      "ticker = O\n",
      "[*********************100%***********************]  1 of 1 completed\n"
     ]
    },
    {
     "data": {
      "text/plain": [
       "(2.976, 4.64, 57)"
      ]
     },
     "execution_count": 5,
     "metadata": {},
     "output_type": "execute_result"
    }
   ],
   "source": [
    "# test getBuyScore function\n",
    "cur_div, cur_div_yield, buy_score = getBuyScore('O')\n",
    "cur_div, cur_div_yield, buy_score"
   ]
  },
  {
   "cell_type": "code",
   "execution_count": 6,
   "id": "e28976f4",
   "metadata": {},
   "outputs": [],
   "source": [
    "import pandas as pd"
   ]
  },
  {
   "cell_type": "code",
   "execution_count": 7,
   "id": "67113648",
   "metadata": {},
   "outputs": [
    {
     "data": {
      "text/html": [
       "<div>\n",
       "<style scoped>\n",
       "    .dataframe tbody tr th:only-of-type {\n",
       "        vertical-align: middle;\n",
       "    }\n",
       "\n",
       "    .dataframe tbody tr th {\n",
       "        vertical-align: top;\n",
       "    }\n",
       "\n",
       "    .dataframe thead th {\n",
       "        text-align: right;\n",
       "    }\n",
       "</style>\n",
       "<table border=\"1\" class=\"dataframe\">\n",
       "  <thead>\n",
       "    <tr style=\"text-align: right;\">\n",
       "      <th></th>\n",
       "      <th>Ticker</th>\n",
       "      <th>Name</th>\n",
       "      <th>Sector</th>\n",
       "      <th>Price</th>\n",
       "      <th>Dividend Yield</th>\n",
       "      <th>Years of Dividend Increases</th>\n",
       "      <th>1-Year Dividend Growth</th>\n",
       "      <th>5-Year Dividend Growth (Annualized)</th>\n",
       "      <th>Dividends Per Share (TTM)</th>\n",
       "      <th>Market Cap ($M)</th>\n",
       "      <th>Trailing P/E Ratio</th>\n",
       "      <th>Payout Ratio</th>\n",
       "      <th>Beta</th>\n",
       "      <th>52-Week High</th>\n",
       "      <th>52-Week Low</th>\n",
       "    </tr>\n",
       "  </thead>\n",
       "  <tbody>\n",
       "    <tr>\n",
       "      <th>0</th>\n",
       "      <td>ABT</td>\n",
       "      <td>0</td>\n",
       "      <td>Healthcare</td>\n",
       "      <td>109.49</td>\n",
       "      <td>0.018632</td>\n",
       "      <td>51</td>\n",
       "      <td>0.044444</td>\n",
       "      <td>0.109144</td>\n",
       "      <td>1.867390</td>\n",
       "      <td>190903.892844</td>\n",
       "      <td>24.198744</td>\n",
       "      <td>0.419638</td>\n",
       "      <td>0.827854</td>\n",
       "      <td>140.25</td>\n",
       "      <td>93.25</td>\n",
       "    </tr>\n",
       "    <tr>\n",
       "      <th>1</th>\n",
       "      <td>ABBV</td>\n",
       "      <td>0</td>\n",
       "      <td>Healthcare</td>\n",
       "      <td>165.32</td>\n",
       "      <td>0.035809</td>\n",
       "      <td>51</td>\n",
       "      <td>0.084615</td>\n",
       "      <td>0.147076</td>\n",
       "      <td>5.559867</td>\n",
       "      <td>292365.197583</td>\n",
       "      <td>21.909862</td>\n",
       "      <td>0.740328</td>\n",
       "      <td>0.356418</td>\n",
       "      <td>171.07</td>\n",
       "      <td>120.68</td>\n",
       "    </tr>\n",
       "    <tr>\n",
       "      <th>2</th>\n",
       "      <td>AFL</td>\n",
       "      <td>0</td>\n",
       "      <td>Financial Services</td>\n",
       "      <td>70.82</td>\n",
       "      <td>0.023722</td>\n",
       "      <td>41</td>\n",
       "      <td>0.212121</td>\n",
       "      <td>NaN</td>\n",
       "      <td>1.585087</td>\n",
       "      <td>44035.065819</td>\n",
       "      <td>8.711190</td>\n",
       "      <td>0.202956</td>\n",
       "      <td>0.679963</td>\n",
       "      <td>72.70</td>\n",
       "      <td>51.43</td>\n",
       "    </tr>\n",
       "  </tbody>\n",
       "</table>\n",
       "</div>"
      ],
      "text/plain": [
       "  Ticker  Name              Sector   Price  Dividend Yield  \\\n",
       "0    ABT     0          Healthcare  109.49        0.018632   \n",
       "1   ABBV     0          Healthcare  165.32        0.035809   \n",
       "2    AFL     0  Financial Services   70.82        0.023722   \n",
       "\n",
       "   Years of Dividend Increases  1-Year Dividend Growth  \\\n",
       "0                           51                0.044444   \n",
       "1                           51                0.084615   \n",
       "2                           41                0.212121   \n",
       "\n",
       "   5-Year Dividend Growth (Annualized)  Dividends Per Share (TTM)  \\\n",
       "0                             0.109144                   1.867390   \n",
       "1                             0.147076                   5.559867   \n",
       "2                                  NaN                   1.585087   \n",
       "\n",
       "   Market Cap ($M)  Trailing P/E Ratio  Payout Ratio      Beta  52-Week High  \\\n",
       "0    190903.892844           24.198744      0.419638  0.827854        140.25   \n",
       "1    292365.197583           21.909862      0.740328  0.356418        171.07   \n",
       "2     44035.065819            8.711190      0.202956  0.679963         72.70   \n",
       "\n",
       "   52-Week Low  \n",
       "0        93.25  \n",
       "1       120.68  \n",
       "2        51.43  "
      ]
     },
     "execution_count": 7,
     "metadata": {},
     "output_type": "execute_result"
    }
   ],
   "source": [
    "STOCK_FILE_NAME = 'dividend_aristocrats.xlsx'\n",
    "stock_df=  pd.read_excel(STOCK_FILE_NAME)\n",
    "stock_df.head(3)"
   ]
  },
  {
   "cell_type": "code",
   "execution_count": 8,
   "id": "cffeeaf7",
   "metadata": {},
   "outputs": [
    {
     "data": {
      "text/plain": [
       "0      ABT\n",
       "1     ABBV\n",
       "2      AFL\n",
       "3      AOS\n",
       "4      APD\n",
       "      ... \n",
       "60       O\n",
       "61     ESS\n",
       "62     ALB\n",
       "63    EXPD\n",
       "64     XOM\n",
       "Name: Ticker, Length: 65, dtype: object"
      ]
     },
     "execution_count": 8,
     "metadata": {},
     "output_type": "execute_result"
    }
   ],
   "source": [
    "tickers = stock_df['Ticker']\n",
    "tickers"
   ]
  },
  {
   "cell_type": "code",
   "execution_count": 9,
   "id": "0dc0c49d",
   "metadata": {},
   "outputs": [
    {
     "name": "stdout",
     "output_type": "stream",
     "text": [
      "ticker = ABT\n",
      "[*********************100%***********************]  1 of 1 completed\n",
      "ticker = ABBV\n",
      "[*********************100%***********************]  1 of 1 completed\n",
      "ticker = AFL\n",
      "[*********************100%***********************]  1 of 1 completed\n",
      "ticker = AOS\n",
      "[*********************100%***********************]  1 of 1 completed\n",
      "ticker = APD\n",
      "[*********************100%***********************]  1 of 1 completed\n",
      "ticker = ADM\n",
      "[*********************100%***********************]  1 of 1 completed\n",
      "ticker = ADP\n",
      "[*********************100%***********************]  1 of 1 completed\n",
      "ticker = BDX\n",
      "[*********************100%***********************]  1 of 1 completed\n",
      "ticker = BF.B\n",
      "\"['ticker'] not found in axis\"\n",
      "ticker = BRO\n",
      "[*********************100%***********************]  1 of 1 completed\n",
      "ticker = CAH\n",
      "[*********************100%***********************]  1 of 1 completed\n",
      "ticker = CAT\n",
      "[*********************100%***********************]  1 of 1 completed\n",
      "ticker = CB\n",
      "[*********************100%***********************]  1 of 1 completed\n",
      "ticker = CHD\n",
      "[*********************100%***********************]  1 of 1 completed\n",
      "ticker = CINF\n",
      "[*********************100%***********************]  1 of 1 completed\n",
      "ticker = CLX\n",
      "[*********************100%***********************]  1 of 1 completed\n",
      "ticker = CTAS\n",
      "[*********************100%***********************]  1 of 1 completed\n",
      "ticker = CVX\n",
      "[*********************100%***********************]  1 of 1 completed\n",
      "ticker = KO\n",
      "[*********************100%***********************]  1 of 1 completed\n",
      "ticker = CL\n",
      "[*********************100%***********************]  1 of 1 completed\n",
      "ticker = ED\n",
      "[*********************100%***********************]  1 of 1 completed\n",
      "ticker = DOV\n",
      "[*********************100%***********************]  1 of 1 completed\n",
      "ticker = ECL\n",
      "[*********************100%***********************]  1 of 1 completed\n",
      "ticker = EMR\n",
      "[*********************100%***********************]  1 of 1 completed\n",
      "ticker = FRT\n",
      "[*********************100%***********************]  1 of 1 completed\n",
      "ticker = BEN\n",
      "[*********************100%***********************]  1 of 1 completed\n",
      "ticker = GD\n",
      "[*********************100%***********************]  1 of 1 completed\n",
      "ticker = GPC\n",
      "[*********************100%***********************]  1 of 1 completed\n",
      "ticker = HRL\n",
      "[*********************100%***********************]  1 of 1 completed\n",
      "ticker = ITW\n",
      "[*********************100%***********************]  1 of 1 completed\n",
      "ticker = JNJ\n",
      "[*********************100%***********************]  1 of 1 completed\n",
      "ticker = KMB\n",
      "[*********************100%***********************]  1 of 1 completed\n",
      "ticker = LEG\n",
      "[*********************100%***********************]  1 of 1 completed\n",
      "ticker = LIN\n",
      "[*********************100%***********************]  1 of 1 completed\n",
      "ticker = LOW\n",
      "[*********************100%***********************]  1 of 1 completed\n",
      "ticker = MKC\n",
      "[*********************100%***********************]  1 of 1 completed\n",
      "ticker = MCD\n",
      "[*********************100%***********************]  1 of 1 completed\n",
      "ticker = MDT\n",
      "[*********************100%***********************]  1 of 1 completed\n",
      "ticker = MMM\n",
      "[*********************100%***********************]  1 of 1 completed\n",
      "ticker = NUE\n",
      "[*********************100%***********************]  1 of 1 completed\n",
      "ticker = PNR\n",
      "[*********************100%***********************]  1 of 1 completed\n",
      "ticker = PEP\n",
      "[*********************100%***********************]  1 of 1 completed\n",
      "ticker = PPG\n",
      "[*********************100%***********************]  1 of 1 completed\n",
      "ticker = PG\n",
      "[*********************100%***********************]  1 of 1 completed\n",
      "ticker = ROP\n",
      "[*********************100%***********************]  1 of 1 completed\n",
      "ticker = SPGI\n",
      "[*********************100%***********************]  1 of 1 completed\n",
      "ticker = SHW\n",
      "[*********************100%***********************]  1 of 1 completed\n",
      "ticker = SWK\n",
      "[*********************100%***********************]  1 of 1 completed\n",
      "ticker = SYY\n",
      "[*********************100%***********************]  1 of 1 completed\n",
      "ticker = TROW\n",
      "[*********************100%***********************]  1 of 1 completed\n",
      "ticker = TGT\n",
      "[*********************100%***********************]  1 of 1 completed\n",
      "ticker = VFC\n",
      "[*********************100%***********************]  1 of 1 completed\n",
      "ticker = GWW\n",
      "[*********************100%***********************]  1 of 1 completed\n",
      "ticker = WMT\n",
      "[*********************100%***********************]  1 of 1 completed\n",
      "ticker = WBA\n",
      "[*********************100%***********************]  1 of 1 completed\n",
      "ticker = IBM\n",
      "[*********************100%***********************]  1 of 1 completed\n",
      "ticker = NEE\n",
      "[*********************100%***********************]  1 of 1 completed\n",
      "ticker = WST\n",
      "[*********************100%***********************]  1 of 1 completed\n",
      "ticker = AMCR\n",
      "[*********************100%***********************]  1 of 1 completed\n",
      "ticker = ATO\n",
      "[*********************100%***********************]  1 of 1 completed\n",
      "ticker = O\n",
      "[*********************100%***********************]  1 of 1 completed\n",
      "ticker = ESS\n",
      "[*********************100%***********************]  1 of 1 completed\n",
      "ticker = ALB\n",
      "[*********************100%***********************]  1 of 1 completed\n",
      "ticker = EXPD\n",
      "[*********************100%***********************]  1 of 1 completed\n",
      "ticker = XOM\n",
      "[*********************100%***********************]  1 of 1 completed\n",
      "264.0785319805145 seconds\n"
     ]
    }
   ],
   "source": [
    "start = time.time()\n",
    "\n",
    "new_tickers = []\n",
    "cur_divs = []\n",
    "cur_div_yields = []\n",
    "buy_scores = []\n",
    "for ticker in tickers:\n",
    "    try:\n",
    "        cur_div, cur_div_yield, buy_score = getBuyScore(ticker)\n",
    "        new_tickers.append(ticker)\n",
    "        cur_divs.append(cur_div)\n",
    "        cur_div_yields.append(cur_div_yield)\n",
    "        buy_scores.append(buy_score)\n",
    "    except Exception as e:\n",
    "        print(e)\n",
    "\n",
    "end = time.time()\n",
    "print(f'{end - start} seconds')"
   ]
  },
  {
   "cell_type": "code",
   "execution_count": 10,
   "id": "f0c3d7a9",
   "metadata": {},
   "outputs": [
    {
     "data": {
      "text/plain": [
       "['ABT', 'ABBV', 'AFL']"
      ]
     },
     "execution_count": 10,
     "metadata": {},
     "output_type": "execute_result"
    }
   ],
   "source": [
    "new_tickers[:3]"
   ]
  },
  {
   "cell_type": "code",
   "execution_count": 11,
   "id": "56826f1f",
   "metadata": {},
   "outputs": [
    {
     "data": {
      "text/plain": [
       "[31, 20, 16]"
      ]
     },
     "execution_count": 11,
     "metadata": {},
     "output_type": "execute_result"
    }
   ],
   "source": [
    "buy_scores[:3]"
   ]
  },
  {
   "cell_type": "code",
   "execution_count": 12,
   "id": "771dc48b",
   "metadata": {},
   "outputs": [],
   "source": [
    "result = pd.DataFrame({'ticker': new_tickers,\n",
    "                            'annual dividend':cur_divs, \n",
    "                            'dividend yield': cur_div_yields,\n",
    "                            'buy score': buy_scores})"
   ]
  },
  {
   "cell_type": "code",
   "execution_count": 13,
   "id": "e7b2c9b4",
   "metadata": {},
   "outputs": [
    {
     "data": {
      "text/html": [
       "<div>\n",
       "<style scoped>\n",
       "    .dataframe tbody tr th:only-of-type {\n",
       "        vertical-align: middle;\n",
       "    }\n",
       "\n",
       "    .dataframe tbody tr th {\n",
       "        vertical-align: top;\n",
       "    }\n",
       "\n",
       "    .dataframe thead th {\n",
       "        text-align: right;\n",
       "    }\n",
       "</style>\n",
       "<table border=\"1\" class=\"dataframe\">\n",
       "  <thead>\n",
       "    <tr style=\"text-align: right;\">\n",
       "      <th></th>\n",
       "      <th>ticker</th>\n",
       "      <th>annual dividend</th>\n",
       "      <th>dividend yield</th>\n",
       "      <th>buy score</th>\n",
       "    </tr>\n",
       "  </thead>\n",
       "  <tbody>\n",
       "    <tr>\n",
       "      <th>0</th>\n",
       "      <td>ABT</td>\n",
       "      <td>1.88</td>\n",
       "      <td>1.73</td>\n",
       "      <td>31</td>\n",
       "    </tr>\n",
       "    <tr>\n",
       "      <th>1</th>\n",
       "      <td>ABBV</td>\n",
       "      <td>5.64</td>\n",
       "      <td>3.46</td>\n",
       "      <td>20</td>\n",
       "    </tr>\n",
       "    <tr>\n",
       "      <th>2</th>\n",
       "      <td>AFL</td>\n",
       "      <td>1.60</td>\n",
       "      <td>2.21</td>\n",
       "      <td>16</td>\n",
       "    </tr>\n",
       "  </tbody>\n",
       "</table>\n",
       "</div>"
      ],
      "text/plain": [
       "  ticker  annual dividend  dividend yield  buy score\n",
       "0    ABT             1.88            1.73         31\n",
       "1   ABBV             5.64            3.46         20\n",
       "2    AFL             1.60            2.21         16"
      ]
     },
     "execution_count": 13,
     "metadata": {},
     "output_type": "execute_result"
    }
   ],
   "source": [
    "result.head(3)"
   ]
  },
  {
   "cell_type": "code",
   "execution_count": 14,
   "id": "917e500c",
   "metadata": {},
   "outputs": [],
   "source": [
    "result.sort_values('buy score', ascending=False, inplace=True)"
   ]
  },
  {
   "cell_type": "code",
   "execution_count": 15,
   "id": "2c6ea7df",
   "metadata": {},
   "outputs": [],
   "source": [
    "result.index = result['ticker']\n",
    "result.drop('ticker', axis=1, inplace=True)"
   ]
  },
  {
   "cell_type": "code",
   "execution_count": 16,
   "id": "fa70fcd2",
   "metadata": {},
   "outputs": [
    {
     "data": {
      "text/html": [
       "<div>\n",
       "<style scoped>\n",
       "    .dataframe tbody tr th:only-of-type {\n",
       "        vertical-align: middle;\n",
       "    }\n",
       "\n",
       "    .dataframe tbody tr th {\n",
       "        vertical-align: top;\n",
       "    }\n",
       "\n",
       "    .dataframe thead th {\n",
       "        text-align: right;\n",
       "    }\n",
       "</style>\n",
       "<table border=\"1\" class=\"dataframe\">\n",
       "  <thead>\n",
       "    <tr style=\"text-align: right;\">\n",
       "      <th></th>\n",
       "      <th>annual dividend</th>\n",
       "      <th>dividend yield</th>\n",
       "      <th>buy score</th>\n",
       "    </tr>\n",
       "    <tr>\n",
       "      <th>ticker</th>\n",
       "      <th></th>\n",
       "      <th></th>\n",
       "      <th></th>\n",
       "    </tr>\n",
       "  </thead>\n",
       "  <tbody>\n",
       "    <tr>\n",
       "      <th>SWK</th>\n",
       "      <td>3.20</td>\n",
       "      <td>4.30</td>\n",
       "      <td>115</td>\n",
       "    </tr>\n",
       "    <tr>\n",
       "      <th>MMM</th>\n",
       "      <td>5.96</td>\n",
       "      <td>4.96</td>\n",
       "      <td>110</td>\n",
       "    </tr>\n",
       "    <tr>\n",
       "      <th>VFC</th>\n",
       "      <td>2.04</td>\n",
       "      <td>7.51</td>\n",
       "      <td>105</td>\n",
       "    </tr>\n",
       "  </tbody>\n",
       "</table>\n",
       "</div>"
      ],
      "text/plain": [
       "        annual dividend  dividend yield  buy score\n",
       "ticker                                            \n",
       "SWK                3.20            4.30        115\n",
       "MMM                5.96            4.96        110\n",
       "VFC                2.04            7.51        105"
      ]
     },
     "execution_count": 16,
     "metadata": {},
     "output_type": "execute_result"
    }
   ],
   "source": [
    "result.head(3)"
   ]
  },
  {
   "cell_type": "code",
   "execution_count": 17,
   "id": "d18926cf",
   "metadata": {},
   "outputs": [
    {
     "data": {
      "image/png": "[encoded data removed]",
      "text/plain": [
       "<Figure size 1296x432 with 1 Axes>"
      ]
     },
     "metadata": {
      "needs_background": "light"
     },
     "output_type": "display_data"
    }
   ],
   "source": [
    "plt.figure(figsize=(18,6))\n",
    "result['buy score'].plot(kind='bar')\n",
    "plt.show()"
   ]
  },
  {
   "cell_type": "code",
   "execution_count": 18,
   "id": "991b970c",
   "metadata": {},
   "outputs": [
    {
     "data": {
      "image/png": "[encoded data removed]",
      "text/plain": [
       "<Figure size 432x288 with 1 Axes>"
      ]
     },
     "metadata": {
      "needs_background": "light"
     },
     "output_type": "display_data"
    }
   ],
   "source": [
    "result[result['buy score'] > 80].plot(kind='bar')\n",
    "plt.show()"
   ]
  },
  {
   "cell_type": "markdown",
   "id": "07f32a81",
   "metadata": {},
   "source": [
    "\"\"\"\n",
    "get basic info\n",
    "\"\"\""
   ]
  },
  {
   "cell_type": "code",
   "execution_count": 1,
   "id": "d68f3f9c",
   "metadata": {},
   "outputs": [],
   "source": [
    "class StockBasicInfo:\n",
    "    def __init__(self, ticker):\n",
    "        self.stock_stats = stock_info.get_stats(ticker)\n",
    "\n",
    "    def getRoe(self):\n",
    "        return self.__getValueByAttribute('Return on Equity (ttm)')\n",
    "\n",
    "    def getPayoutRatio(self):\n",
    "        return self.__getValueByAttribute('Payout Ratio 4')\n",
    "\n",
    "    def getDividendYield(self):\n",
    "        return self.__getValueByAttribute('Forward Annual Dividend Yield 4')\n",
    "\n",
    "    def __getValueByAttribute(self, attribute):\n",
    "        try:\n",
    "            stock_stats = self.stock_stats\n",
    "            value = stock_stats['Value'][stock_stats['Attribute'] == attribute].values[0]\n",
    "            value = value.replace('%', '')\n",
    "            return float(value)\n",
    "        except Exception as e:\n",
    "            print(e)\n",
    "            return 'N/A'"
   ]
  },
  {
   "cell_type": "code",
   "execution_count": 20,
   "id": "58190178",
   "metadata": {},
   "outputs": [],
   "source": [
    "roes = []\n",
    "payoutratios = []\n",
    "for ticker in result.index:\n",
    "    #print(ticker)\n",
    "    stockBasicInfo = StockBasicInfo(ticker)\n",
    "    roes.append(stockBasicInfo.getRoe())\n",
    "    payoutratios.append(stockBasicInfo.getPayoutRatio())"
   ]
  },
  {
   "cell_type": "code",
   "execution_count": 21,
   "id": "8c72c508",
   "metadata": {},
   "outputs": [],
   "source": [
    "result['roe'] = roes"
   ]
  },
  {
   "cell_type": "code",
   "execution_count": 22,
   "id": "0bd53f6e",
   "metadata": {},
   "outputs": [],
   "source": [
    "result['payout ratio'] = payoutratios"
   ]
  },
  {
   "cell_type": "code",
   "execution_count": 23,
   "id": "3c99f937",
   "metadata": {},
   "outputs": [
    {
     "data": {
      "text/html": [
       "<div>\n",
       "<style scoped>\n",
       "    .dataframe tbody tr th:only-of-type {\n",
       "        vertical-align: middle;\n",
       "    }\n",
       "\n",
       "    .dataframe tbody tr th {\n",
       "        vertical-align: top;\n",
       "    }\n",
       "\n",
       "    .dataframe thead th {\n",
       "        text-align: right;\n",
       "    }\n",
       "</style>\n",
       "<table border=\"1\" class=\"dataframe\">\n",
       "  <thead>\n",
       "    <tr style=\"text-align: right;\">\n",
       "      <th></th>\n",
       "      <th>annual dividend</th>\n",
       "      <th>dividend yield</th>\n",
       "      <th>buy score</th>\n",
       "      <th>roe</th>\n",
       "      <th>payout ratio</th>\n",
       "    </tr>\n",
       "    <tr>\n",
       "      <th>ticker</th>\n",
       "      <th></th>\n",
       "      <th></th>\n",
       "      <th></th>\n",
       "      <th></th>\n",
       "      <th></th>\n",
       "    </tr>\n",
       "  </thead>\n",
       "  <tbody>\n",
       "    <tr>\n",
       "      <th>SWK</th>\n",
       "      <td>3.20</td>\n",
       "      <td>4.30</td>\n",
       "      <td>115</td>\n",
       "      <td>5.73%</td>\n",
       "      <td>85.68%</td>\n",
       "    </tr>\n",
       "    <tr>\n",
       "      <th>MMM</th>\n",
       "      <td>5.96</td>\n",
       "      <td>4.96</td>\n",
       "      <td>110</td>\n",
       "      <td>45.93%</td>\n",
       "      <td>51.92%</td>\n",
       "    </tr>\n",
       "    <tr>\n",
       "      <th>VFC</th>\n",
       "      <td>2.04</td>\n",
       "      <td>7.51</td>\n",
       "      <td>105</td>\n",
       "      <td>12.68%</td>\n",
       "      <td>185.19%</td>\n",
       "    </tr>\n",
       "  </tbody>\n",
       "</table>\n",
       "</div>"
      ],
      "text/plain": [
       "        annual dividend  dividend yield  buy score     roe payout ratio\n",
       "ticker                                                                 \n",
       "SWK                3.20            4.30        115   5.73%       85.68%\n",
       "MMM                5.96            4.96        110  45.93%       51.92%\n",
       "VFC                2.04            7.51        105  12.68%      185.19%"
      ]
     },
     "execution_count": 23,
     "metadata": {},
     "output_type": "execute_result"
    }
   ],
   "source": [
    "result.head(3)"
   ]
  },
  {
   "cell_type": "code",
   "execution_count": 24,
   "id": "6c27047a",
   "metadata": {},
   "outputs": [],
   "source": [
    "from datetime import date\n",
    "today = date.today().strftime(\"%Y%m%d\")\n",
    "result_file_name = STOCK_FILE_NAME.split(\".\")[0] + \"_result_\" + today + \".xlsx\"\n",
    "result.to_excel(result_file_name)"
   ]
  },
  {
   "cell_type": "markdown",
   "id": "9a02b41b",
   "metadata": {},
   "source": [
    "\"\"\"\n",
    "FIN\n",
    "\"\"\""
   ]
  },
  {
   "cell_type": "code",
   "execution_count": null,
   "id": "43515c80",
   "metadata": {},
   "outputs": [],
   "source": []
  }
 ],
 "metadata": {
  "kernelspec": {
   "display_name": "Python 3 (ipykernel)",
   "language": "python",
   "name": "python3"
  },
  "language_info": {
   "codemirror_mode": {
    "name": "ipython",
    "version": 3
   },
   "file_extension": ".py",
   "mimetype": "text/x-python",
   "name": "python",
   "nbconvert_exporter": "python",
   "pygments_lexer": "ipython3",
   "version": "3.9.13"
  }
 },
 "nbformat": 4,
 "nbformat_minor": 5
}
